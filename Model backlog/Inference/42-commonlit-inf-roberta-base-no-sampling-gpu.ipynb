{
 "cells": [
  {
   "cell_type": "markdown",
   "id": "corrected-progress",
   "metadata": {
    "papermill": {
     "duration": 0.011094,
     "end_time": "2021-05-22T23:32:33.704428",
     "exception": false,
     "start_time": "2021-05-22T23:32:33.693334",
     "status": "completed"
    },
    "tags": []
   },
   "source": [
    "## Dependencies"
   ]
  },
  {
   "cell_type": "code",
   "execution_count": 1,
   "id": "decent-valentine",
   "metadata": {
    "_cell_guid": "b1076dfc-b9ad-4769-8c92-a6c4dae69d19",
    "_kg_hide-input": true,
    "_kg_hide-output": true,
    "_uuid": "8f2839f25d086af736a60e9eeb907d3b93b6e0e5",
    "execution": {
     "iopub.execute_input": "2021-05-22T23:32:33.734294Z",
     "iopub.status.busy": "2021-05-22T23:32:33.733659Z",
     "iopub.status.idle": "2021-05-22T23:32:40.823090Z",
     "shell.execute_reply": "2021-05-22T23:32:40.822119Z",
     "shell.execute_reply.started": "2021-05-22T23:32:08.709158Z"
    },
    "papermill": {
     "duration": 7.109103,
     "end_time": "2021-05-22T23:32:40.823254",
     "exception": false,
     "start_time": "2021-05-22T23:32:33.714151",
     "status": "completed"
    },
    "tags": []
   },
   "outputs": [],
   "source": [
    "import warnings, math, json, glob\n",
    "import pandas as pd\n",
    "import tensorflow.keras.layers as L\n",
    "import tensorflow.keras.backend as K\n",
    "from tensorflow.keras import Model\n",
    "from transformers import TFAutoModelForSequenceClassification, TFAutoModel, AutoTokenizer\n",
    "from commonlit_scripts import *\n",
    "\n",
    "\n",
    "seed = 0\n",
    "seed_everything(seed)\n",
    "warnings.filterwarnings('ignore')\n",
    "pd.set_option('display.max_colwidth', 150)"
   ]
  },
  {
   "cell_type": "markdown",
   "id": "nominated-comparative",
   "metadata": {
    "papermill": {
     "duration": 0.009461,
     "end_time": "2021-05-22T23:32:40.842800",
     "exception": false,
     "start_time": "2021-05-22T23:32:40.833339",
     "status": "completed"
    },
    "tags": []
   },
   "source": [
    "### Hardware configuration"
   ]
  },
  {
   "cell_type": "code",
   "execution_count": 2,
   "id": "governmental-condition",
   "metadata": {
    "_kg_hide-input": true,
    "_kg_hide-output": false,
    "execution": {
     "iopub.execute_input": "2021-05-22T23:32:40.866374Z",
     "iopub.status.busy": "2021-05-22T23:32:40.865640Z",
     "iopub.status.idle": "2021-05-22T23:32:40.874163Z",
     "shell.execute_reply": "2021-05-22T23:32:40.874692Z",
     "shell.execute_reply.started": "2021-05-22T23:32:16.142386Z"
    },
    "papermill": {
     "duration": 0.022375,
     "end_time": "2021-05-22T23:32:40.874875",
     "exception": false,
     "start_time": "2021-05-22T23:32:40.852500",
     "status": "completed"
    },
    "tags": []
   },
   "outputs": [
    {
     "name": "stdout",
     "output_type": "stream",
     "text": [
      "REPLICAS: 1\n"
     ]
    }
   ],
   "source": [
    "strategy, tpu = get_strategy()\n",
    "AUTO = tf.data.AUTOTUNE\n",
    "REPLICAS = strategy.num_replicas_in_sync\n",
    "print(f'REPLICAS: {REPLICAS}')"
   ]
  },
  {
   "cell_type": "markdown",
   "id": "modular-closing",
   "metadata": {
    "papermill": {
     "duration": 0.010059,
     "end_time": "2021-05-22T23:32:40.895823",
     "exception": false,
     "start_time": "2021-05-22T23:32:40.885764",
     "status": "completed"
    },
    "tags": []
   },
   "source": [
    "# Load data"
   ]
  },
  {
   "cell_type": "code",
   "execution_count": 3,
   "id": "smoking-hollywood",
   "metadata": {
    "_kg_hide-input": true,
    "execution": {
     "iopub.execute_input": "2021-05-22T23:32:40.921526Z",
     "iopub.status.busy": "2021-05-22T23:32:40.921051Z",
     "iopub.status.idle": "2021-05-22T23:32:40.950043Z",
     "shell.execute_reply": "2021-05-22T23:32:40.949632Z",
     "shell.execute_reply.started": "2021-05-22T23:32:16.163109Z"
    },
    "papermill": {
     "duration": 0.044375,
     "end_time": "2021-05-22T23:32:40.950147",
     "exception": false,
     "start_time": "2021-05-22T23:32:40.905772",
     "status": "completed"
    },
    "tags": []
   },
   "outputs": [
    {
     "name": "stdout",
     "output_type": "stream",
     "text": [
      "Test samples: 7\n"
     ]
    },
    {
     "data": {
      "text/html": [
       "<div>\n",
       "<style scoped>\n",
       "    .dataframe tbody tr th:only-of-type {\n",
       "        vertical-align: middle;\n",
       "    }\n",
       "\n",
       "    .dataframe tbody tr th {\n",
       "        vertical-align: top;\n",
       "    }\n",
       "\n",
       "    .dataframe thead th {\n",
       "        text-align: right;\n",
       "    }\n",
       "</style>\n",
       "<table border=\"1\" class=\"dataframe\">\n",
       "  <thead>\n",
       "    <tr style=\"text-align: right;\">\n",
       "      <th></th>\n",
       "      <th>id</th>\n",
       "      <th>url_legal</th>\n",
       "      <th>license</th>\n",
       "      <th>excerpt</th>\n",
       "    </tr>\n",
       "  </thead>\n",
       "  <tbody>\n",
       "    <tr>\n",
       "      <th>0</th>\n",
       "      <td>c0f722661</td>\n",
       "      <td>NaN</td>\n",
       "      <td>NaN</td>\n",
       "      <td>My hope lay in Jack's promise that he would keep a bright light burning in the upper story to guide me on my course. On a clear night this light w...</td>\n",
       "    </tr>\n",
       "    <tr>\n",
       "      <th>1</th>\n",
       "      <td>f0953f0a5</td>\n",
       "      <td>NaN</td>\n",
       "      <td>NaN</td>\n",
       "      <td>Dotty continued to go to Mrs. Gray's every night with the milk. Sometimes Katie went with her, and then they always paused a while under the acorn...</td>\n",
       "    </tr>\n",
       "    <tr>\n",
       "      <th>2</th>\n",
       "      <td>0df072751</td>\n",
       "      <td>NaN</td>\n",
       "      <td>NaN</td>\n",
       "      <td>It was a bright and cheerful scene that greeted the eyes of Captain Raymond and his son as they entered the parlor of the adjacent cottage.\\nIt wa...</td>\n",
       "    </tr>\n",
       "    <tr>\n",
       "      <th>3</th>\n",
       "      <td>04caf4e0c</td>\n",
       "      <td>https://en.wikipedia.org/wiki/Cell_division</td>\n",
       "      <td>CC BY-SA 3.0</td>\n",
       "      <td>Cell division is the process by which a parent cell divides into two or more daughter cells. Cell division usually occurs as part of a larger cell...</td>\n",
       "    </tr>\n",
       "    <tr>\n",
       "      <th>4</th>\n",
       "      <td>0e63f8bea</td>\n",
       "      <td>https://en.wikipedia.org/wiki/Debugging</td>\n",
       "      <td>CC BY-SA 3.0</td>\n",
       "      <td>Debugging is the process of finding and resolving of defects that prevent correct operation of computer software or a system. Debugging tends to b...</td>\n",
       "    </tr>\n",
       "  </tbody>\n",
       "</table>\n",
       "</div>"
      ],
      "text/plain": [
       "          id                                    url_legal       license  \\\n",
       "0  c0f722661                                          NaN           NaN   \n",
       "1  f0953f0a5                                          NaN           NaN   \n",
       "2  0df072751                                          NaN           NaN   \n",
       "3  04caf4e0c  https://en.wikipedia.org/wiki/Cell_division  CC BY-SA 3.0   \n",
       "4  0e63f8bea      https://en.wikipedia.org/wiki/Debugging  CC BY-SA 3.0   \n",
       "\n",
       "                                                                                                                                                 excerpt  \n",
       "0  My hope lay in Jack's promise that he would keep a bright light burning in the upper story to guide me on my course. On a clear night this light w...  \n",
       "1  Dotty continued to go to Mrs. Gray's every night with the milk. Sometimes Katie went with her, and then they always paused a while under the acorn...  \n",
       "2  It was a bright and cheerful scene that greeted the eyes of Captain Raymond and his son as they entered the parlor of the adjacent cottage.\\nIt wa...  \n",
       "3  Cell division is the process by which a parent cell divides into two or more daughter cells. Cell division usually occurs as part of a larger cell...  \n",
       "4  Debugging is the process of finding and resolving of defects that prevent correct operation of computer software or a system. Debugging tends to b...  "
      ]
     },
     "metadata": {},
     "output_type": "display_data"
    }
   ],
   "source": [
    "base_path = '/kaggle/input/'\n",
    "test_filepath = base_path + 'commonlitreadabilityprize/test.csv'\n",
    "test = pd.read_csv(test_filepath)\n",
    "print(f'Test samples: {len(test)}')\n",
    "display(test.head())"
   ]
  },
  {
   "cell_type": "markdown",
   "id": "under-dominant",
   "metadata": {
    "papermill": {
     "duration": 0.010729,
     "end_time": "2021-05-22T23:32:40.971774",
     "exception": false,
     "start_time": "2021-05-22T23:32:40.961045",
     "status": "completed"
    },
    "tags": []
   },
   "source": [
    "# Model parameters"
   ]
  },
  {
   "cell_type": "code",
   "execution_count": 4,
   "id": "diagnostic-inflation",
   "metadata": {
    "_kg_hide-input": true,
    "execution": {
     "iopub.execute_input": "2021-05-22T23:32:40.997018Z",
     "iopub.status.busy": "2021-05-22T23:32:40.996493Z",
     "iopub.status.idle": "2021-05-22T23:32:41.006572Z",
     "shell.execute_reply": "2021-05-22T23:32:41.006991Z",
     "shell.execute_reply.started": "2021-05-22T23:32:16.221822Z"
    },
    "papermill": {
     "duration": 0.024798,
     "end_time": "2021-05-22T23:32:41.007104",
     "exception": false,
     "start_time": "2021-05-22T23:32:40.982306",
     "status": "completed"
    },
    "tags": []
   },
   "outputs": [
    {
     "data": {
      "text/plain": [
       "{'BATCH_SIZE': 8,\n",
       " 'LEARNING_RATE': 1e-05,\n",
       " 'EPOCHS': 100,\n",
       " 'ES_PATIENCE': 30,\n",
       " 'N_FOLDS': 5,\n",
       " 'N_USED_FOLDS': 1,\n",
       " 'SEQ_LEN': 256,\n",
       " 'BASE_MODEL': '/kaggle/input/huggingface-roberta/roberta-base/',\n",
       " 'SEED': 0}"
      ]
     },
     "execution_count": 4,
     "metadata": {},
     "output_type": "execute_result"
    }
   ],
   "source": [
    "input_noteboks = [x for x in os.listdir(base_path) if '-commonlit-' in x]\n",
    "input_base_path = f'{base_path}{input_noteboks[0]}/'\n",
    "with open(input_base_path + 'config.json') as json_file:\n",
    "    config = json.load(json_file)\n",
    "\n",
    "config"
   ]
  },
  {
   "cell_type": "markdown",
   "id": "beautiful-diagnosis",
   "metadata": {
    "papermill": {
     "duration": 0.010931,
     "end_time": "2021-05-22T23:32:41.028929",
     "exception": false,
     "start_time": "2021-05-22T23:32:41.017998",
     "status": "completed"
    },
    "tags": []
   },
   "source": [
    "## Auxiliary functions"
   ]
  },
  {
   "cell_type": "code",
   "execution_count": 5,
   "id": "annoying-duncan",
   "metadata": {
    "_cell_guid": "79c7e3d0-c299-4dcb-8224-4455121ee9b0",
    "_kg_hide-input": true,
    "_uuid": "d629ff2d2480ee46fbb7e2d37f6b5fab8052498a",
    "execution": {
     "iopub.execute_input": "2021-05-22T23:32:41.059678Z",
     "iopub.status.busy": "2021-05-22T23:32:41.058967Z",
     "iopub.status.idle": "2021-05-22T23:32:41.061497Z",
     "shell.execute_reply": "2021-05-22T23:32:41.061124Z",
     "shell.execute_reply.started": "2021-05-22T23:32:16.242000Z"
    },
    "papermill": {
     "duration": 0.021756,
     "end_time": "2021-05-22T23:32:41.061593",
     "exception": false,
     "start_time": "2021-05-22T23:32:41.039837",
     "status": "completed"
    },
    "tags": []
   },
   "outputs": [],
   "source": [
    "# Datasets utility functions\n",
    "def custom_standardization(text, is_lower=True):\n",
    "    if is_lower:\n",
    "        text = text.lower() # if encoder is uncased\n",
    "    text = text.strip()\n",
    "    return text\n",
    "\n",
    "def get_dataset(pandas_df, tokenizer, labeled=True, ordered=False, repeated=False, \n",
    "                is_sampled=False, batch_size=32, seq_len=128, is_lower=True):\n",
    "    \"\"\"\n",
    "        Return a Tensorflow dataset ready for training or inference.\n",
    "    \"\"\"\n",
    "    text = [custom_standardization(text, is_lower) for text in pandas_df['excerpt']]\n",
    "    \n",
    "    # Tokenize inputs\n",
    "    tokenized_inputs = tokenizer(text, max_length=seq_len, truncation=True, \n",
    "                                 padding='max_length', return_tensors='tf')\n",
    "    \n",
    "    if labeled:\n",
    "        dataset = tf.data.Dataset.from_tensor_slices(({'input_ids': tokenized_inputs['input_ids'], \n",
    "                                                       'attention_mask': tokenized_inputs['attention_mask']}, \n",
    "                                                      (pandas_df['target'], pandas_df['standard_error'])))\n",
    "    else:\n",
    "        dataset = tf.data.Dataset.from_tensor_slices({'input_ids': tokenized_inputs['input_ids'], \n",
    "                                                      'attention_mask': tokenized_inputs['attention_mask']})\n",
    "        \n",
    "    if repeated:\n",
    "        dataset = dataset.repeat()\n",
    "    if not ordered:\n",
    "        dataset = dataset.shuffle(2048)\n",
    "    dataset = dataset.batch(batch_size)\n",
    "    dataset = dataset.cache()\n",
    "    dataset = dataset.prefetch(tf.data.AUTOTUNE)\n",
    "    return dataset"
   ]
  },
  {
   "cell_type": "code",
   "execution_count": 6,
   "id": "spatial-armstrong",
   "metadata": {
    "_kg_hide-input": true,
    "execution": {
     "iopub.execute_input": "2021-05-22T23:32:41.087068Z",
     "iopub.status.busy": "2021-05-22T23:32:41.086537Z",
     "iopub.status.idle": "2021-05-22T23:32:41.095372Z",
     "shell.execute_reply": "2021-05-22T23:32:41.094943Z",
     "shell.execute_reply.started": "2021-05-22T23:32:16.255720Z"
    },
    "papermill": {
     "duration": 0.022796,
     "end_time": "2021-05-22T23:32:41.095468",
     "exception": false,
     "start_time": "2021-05-22T23:32:41.072672",
     "status": "completed"
    },
    "tags": []
   },
   "outputs": [
    {
     "name": "stdout",
     "output_type": "stream",
     "text": [
      "Models to predict:\n",
      "/kaggle/input/42-commonlit-roberta-base-no-sampling-gpu/model_0.h5\n"
     ]
    }
   ],
   "source": [
    "model_path_list = glob.glob(f'{input_base_path}*.h5')\n",
    "model_path_list.sort()\n",
    "\n",
    "print('Models to predict:')\n",
    "print(*model_path_list, sep='\\n')"
   ]
  },
  {
   "cell_type": "markdown",
   "id": "several-norman",
   "metadata": {
    "papermill": {
     "duration": 0.010925,
     "end_time": "2021-05-22T23:32:41.117766",
     "exception": false,
     "start_time": "2021-05-22T23:32:41.106841",
     "status": "completed"
    },
    "tags": []
   },
   "source": [
    "# Model"
   ]
  },
  {
   "cell_type": "code",
   "execution_count": 7,
   "id": "local-contamination",
   "metadata": {
    "_kg_hide-input": false,
    "_kg_hide-output": true,
    "execution": {
     "iopub.execute_input": "2021-05-22T23:32:41.146645Z",
     "iopub.status.busy": "2021-05-22T23:32:41.146026Z",
     "iopub.status.idle": "2021-05-22T23:33:00.427275Z",
     "shell.execute_reply": "2021-05-22T23:33:00.426846Z"
    },
    "papermill": {
     "duration": 19.298288,
     "end_time": "2021-05-22T23:33:00.427393",
     "exception": false,
     "start_time": "2021-05-22T23:32:41.129105",
     "status": "completed"
    },
    "tags": []
   },
   "outputs": [
    {
     "name": "stderr",
     "output_type": "stream",
     "text": [
      "Some layers from the model checkpoint at /kaggle/input/huggingface-roberta/roberta-base/ were not used when initializing TFRobertaModel: ['lm_head']\n",
      "- This IS expected if you are initializing TFRobertaModel from the checkpoint of a model trained on another task or with another architecture (e.g. initializing a BertForSequenceClassification model from a BertForPreTraining model).\n",
      "- This IS NOT expected if you are initializing TFRobertaModel from the checkpoint of a model that you expect to be exactly identical (initializing a BertForSequenceClassification model from a BertForSequenceClassification model).\n",
      "All the layers of TFRobertaModel were initialized from the model checkpoint at /kaggle/input/huggingface-roberta/roberta-base/.\n",
      "If your task is similar to the task the model of the checkpoint was trained on, you can already use TFRobertaModel for predictions without further training.\n"
     ]
    },
    {
     "name": "stdout",
     "output_type": "stream",
     "text": [
      "Model: \"model\"\n",
      "__________________________________________________________________________________________________\n",
      "Layer (type)                    Output Shape         Param #     Connected to                     \n",
      "==================================================================================================\n",
      "attention_mask (InputLayer)     [(None, 256)]        0                                            \n",
      "__________________________________________________________________________________________________\n",
      "input_ids (InputLayer)          [(None, 256)]        0                                            \n",
      "__________________________________________________________________________________________________\n",
      "tf_roberta_model (TFRobertaMode TFBaseModelOutputWit 124645632   attention_mask[0][0]             \n",
      "                                                                 input_ids[0][0]                  \n",
      "__________________________________________________________________________________________________\n",
      "tf.__operators__.getitem (Slici (None, 768)          0           tf_roberta_model[0][0]           \n",
      "__________________________________________________________________________________________________\n",
      "output (Dense)                  (None, 1)            769         tf.__operators__.getitem[0][0]   \n",
      "==================================================================================================\n",
      "Total params: 124,646,401\n",
      "Trainable params: 85,645,825\n",
      "Non-trainable params: 39,000,576\n",
      "__________________________________________________________________________________________________\n"
     ]
    }
   ],
   "source": [
    "def model_fn(encoder, seq_len=256):\n",
    "    input_ids = L.Input(shape=(seq_len,), dtype=tf.int32, name='input_ids')\n",
    "    input_attention_mask = L.Input(shape=(seq_len,), dtype=tf.int32, name='attention_mask')\n",
    "    \n",
    "    outputs = encoder({'input_ids': input_ids,  \n",
    "                       'attention_mask': input_attention_mask})\n",
    "    last_hidden_state = outputs['last_hidden_state']\n",
    "    \n",
    "    cls_token = last_hidden_state[:, 0, :]\n",
    "    \n",
    "    output = L.Dense(1, name='output')(cls_token)\n",
    "    \n",
    "    model = Model(inputs=[input_ids, input_attention_mask], \n",
    "                  outputs=[output])\n",
    "    return model\n",
    "\n",
    "\n",
    "with strategy.scope():\n",
    "    encoder = TFAutoModel.from_pretrained(config['BASE_MODEL'])\n",
    "    # Freeze embeddings\n",
    "    encoder.layers[0].embeddings.trainable = False\n",
    "    model = model_fn(encoder, config['SEQ_LEN'])\n",
    "    \n",
    "model.summary()"
   ]
  },
  {
   "cell_type": "markdown",
   "id": "sized-projector",
   "metadata": {
    "papermill": {
     "duration": 0.01182,
     "end_time": "2021-05-22T23:33:00.451808",
     "exception": false,
     "start_time": "2021-05-22T23:33:00.439988",
     "status": "completed"
    },
    "tags": []
   },
   "source": [
    "# Test set predictions"
   ]
  },
  {
   "cell_type": "code",
   "execution_count": 8,
   "id": "restricted-precipitation",
   "metadata": {
    "_kg_hide-input": true,
    "_kg_hide-output": true,
    "execution": {
     "iopub.execute_input": "2021-05-22T23:33:00.481422Z",
     "iopub.status.busy": "2021-05-22T23:33:00.480932Z",
     "iopub.status.idle": "2021-05-22T23:33:08.852197Z",
     "shell.execute_reply": "2021-05-22T23:33:08.851306Z"
    },
    "papermill": {
     "duration": 8.388312,
     "end_time": "2021-05-22T23:33:08.852334",
     "exception": false,
     "start_time": "2021-05-22T23:33:00.464022",
     "status": "completed"
    },
    "tags": []
   },
   "outputs": [
    {
     "name": "stdout",
     "output_type": "stream",
     "text": [
      "/kaggle/input/42-commonlit-roberta-base-no-sampling-gpu/model_0.h5\n"
     ]
    }
   ],
   "source": [
    "tokenizer = AutoTokenizer.from_pretrained(config['BASE_MODEL'])\n",
    "test_pred = []\n",
    "\n",
    "for model_path in model_path_list:\n",
    "    print(model_path)\n",
    "    if tpu: tf.tpu.experimental.initialize_tpu_system(tpu)\n",
    "    K.clear_session()\n",
    "    model.load_weights(model_path)\n",
    "\n",
    "    # Test predictions\n",
    "    test_ds = get_dataset(test, tokenizer, labeled=False, ordered=True, \n",
    "                          batch_size=config['BATCH_SIZE'], seq_len=config['SEQ_LEN'])\n",
    "    x_test = test_ds.map(lambda sample: sample)\n",
    "    test_pred.append(model.predict(x_test))"
   ]
  },
  {
   "cell_type": "markdown",
   "id": "armed-russia",
   "metadata": {
    "papermill": {
     "duration": 0.012794,
     "end_time": "2021-05-22T23:33:08.877887",
     "exception": false,
     "start_time": "2021-05-22T23:33:08.865093",
     "status": "completed"
    },
    "tags": []
   },
   "source": [
    "# Test set predictions"
   ]
  },
  {
   "cell_type": "code",
   "execution_count": 9,
   "id": "fixed-story",
   "metadata": {
    "_kg_hide-input": true,
    "execution": {
     "iopub.execute_input": "2021-05-22T23:33:08.909448Z",
     "iopub.status.busy": "2021-05-22T23:33:08.908651Z",
     "iopub.status.idle": "2021-05-22T23:33:09.032471Z",
     "shell.execute_reply": "2021-05-22T23:33:09.032000Z"
    },
    "papermill": {
     "duration": 0.142239,
     "end_time": "2021-05-22T23:33:09.032604",
     "exception": false,
     "start_time": "2021-05-22T23:33:08.890365",
     "status": "completed"
    },
    "tags": []
   },
   "outputs": [
    {
     "data": {
      "text/html": [
       "<div>\n",
       "<style scoped>\n",
       "    .dataframe tbody tr th:only-of-type {\n",
       "        vertical-align: middle;\n",
       "    }\n",
       "\n",
       "    .dataframe tbody tr th {\n",
       "        vertical-align: top;\n",
       "    }\n",
       "\n",
       "    .dataframe thead th {\n",
       "        text-align: right;\n",
       "    }\n",
       "</style>\n",
       "<table border=\"1\" class=\"dataframe\">\n",
       "  <thead>\n",
       "    <tr style=\"text-align: right;\">\n",
       "      <th></th>\n",
       "      <th>id</th>\n",
       "      <th>target</th>\n",
       "    </tr>\n",
       "  </thead>\n",
       "  <tbody>\n",
       "    <tr>\n",
       "      <th>0</th>\n",
       "      <td>c0f722661</td>\n",
       "      <td>-0.313716</td>\n",
       "    </tr>\n",
       "    <tr>\n",
       "      <th>1</th>\n",
       "      <td>f0953f0a5</td>\n",
       "      <td>-0.279868</td>\n",
       "    </tr>\n",
       "    <tr>\n",
       "      <th>2</th>\n",
       "      <td>0df072751</td>\n",
       "      <td>-0.228009</td>\n",
       "    </tr>\n",
       "    <tr>\n",
       "      <th>3</th>\n",
       "      <td>04caf4e0c</td>\n",
       "      <td>-2.605139</td>\n",
       "    </tr>\n",
       "    <tr>\n",
       "      <th>4</th>\n",
       "      <td>0e63f8bea</td>\n",
       "      <td>-1.724052</td>\n",
       "    </tr>\n",
       "    <tr>\n",
       "      <th>5</th>\n",
       "      <td>12537fe78</td>\n",
       "      <td>-1.381128</td>\n",
       "    </tr>\n",
       "    <tr>\n",
       "      <th>6</th>\n",
       "      <td>965e592c0</td>\n",
       "      <td>0.225276</td>\n",
       "    </tr>\n",
       "  </tbody>\n",
       "</table>\n",
       "</div>"
      ],
      "text/plain": [
       "          id    target\n",
       "0  c0f722661 -0.313716\n",
       "1  f0953f0a5 -0.279868\n",
       "2  0df072751 -0.228009\n",
       "3  04caf4e0c -2.605139\n",
       "4  0e63f8bea -1.724052\n",
       "5  12537fe78 -1.381128\n",
       "6  965e592c0  0.225276"
      ]
     },
     "metadata": {},
     "output_type": "display_data"
    }
   ],
   "source": [
    "submission = test[['id']]\n",
    "submission['target'] = np.mean(test_pred, axis=0)\n",
    "submission.to_csv('submission.csv', index=False)\n",
    "display(submission.head(10))"
   ]
  }
 ],
 "metadata": {
  "kernelspec": {
   "display_name": "Python 3",
   "language": "python",
   "name": "python3"
  },
  "language_info": {
   "codemirror_mode": {
    "name": "ipython",
    "version": 3
   },
   "file_extension": ".py",
   "mimetype": "text/x-python",
   "name": "python",
   "nbconvert_exporter": "python",
   "pygments_lexer": "ipython3",
   "version": "3.7.10"
  },
  "papermill": {
   "default_parameters": {},
   "duration": 44.692321,
   "end_time": "2021-05-22T23:33:11.874532",
   "environment_variables": {},
   "exception": null,
   "input_path": "__notebook__.ipynb",
   "output_path": "__notebook__.ipynb",
   "parameters": {},
   "start_time": "2021-05-22T23:32:27.182211",
   "version": "2.3.3"
  }
 },
 "nbformat": 4,
 "nbformat_minor": 5
}
