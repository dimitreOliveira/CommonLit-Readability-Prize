{
 "cells": [
  {
   "cell_type": "markdown",
   "id": "universal-designation",
   "metadata": {
    "papermill": {
     "duration": 0.010331,
     "end_time": "2021-05-16T02:02:56.778949",
     "exception": false,
     "start_time": "2021-05-16T02:02:56.768618",
     "status": "completed"
    },
    "tags": []
   },
   "source": [
    "## Dependencies"
   ]
  },
  {
   "cell_type": "code",
   "execution_count": 1,
   "id": "cordless-camping",
   "metadata": {
    "_cell_guid": "b1076dfc-b9ad-4769-8c92-a6c4dae69d19",
    "_kg_hide-input": true,
    "_kg_hide-output": true,
    "_uuid": "8f2839f25d086af736a60e9eeb907d3b93b6e0e5",
    "execution": {
     "iopub.execute_input": "2021-05-16T02:02:56.808380Z",
     "iopub.status.busy": "2021-05-16T02:02:56.807733Z",
     "iopub.status.idle": "2021-05-16T02:03:04.020374Z",
     "shell.execute_reply": "2021-05-16T02:03:04.019402Z"
    },
    "papermill": {
     "duration": 7.232163,
     "end_time": "2021-05-16T02:03:04.020527",
     "exception": false,
     "start_time": "2021-05-16T02:02:56.788364",
     "status": "completed"
    },
    "tags": []
   },
   "outputs": [],
   "source": [
    "import warnings, math, json, glob\n",
    "import pandas as pd\n",
    "import tensorflow.keras.layers as L\n",
    "import tensorflow.keras.backend as K\n",
    "from tensorflow.keras import Model\n",
    "from transformers import TFAutoModelForSequenceClassification, TFAutoModel, AutoTokenizer\n",
    "from commonlit_scripts import *\n",
    "\n",
    "\n",
    "seed = 0\n",
    "seed_everything(seed)\n",
    "warnings.filterwarnings('ignore')\n",
    "pd.set_option('display.max_colwidth', 150)"
   ]
  },
  {
   "cell_type": "markdown",
   "id": "human-tribute",
   "metadata": {
    "papermill": {
     "duration": 0.009347,
     "end_time": "2021-05-16T02:03:04.039831",
     "exception": false,
     "start_time": "2021-05-16T02:03:04.030484",
     "status": "completed"
    },
    "tags": []
   },
   "source": [
    "### Hardware configuration"
   ]
  },
  {
   "cell_type": "code",
   "execution_count": 2,
   "id": "raised-collar",
   "metadata": {
    "_kg_hide-input": true,
    "_kg_hide-output": false,
    "execution": {
     "iopub.execute_input": "2021-05-16T02:03:04.063029Z",
     "iopub.status.busy": "2021-05-16T02:03:04.062378Z",
     "iopub.status.idle": "2021-05-16T02:03:04.071440Z",
     "shell.execute_reply": "2021-05-16T02:03:04.070811Z"
    },
    "papermill": {
     "duration": 0.022141,
     "end_time": "2021-05-16T02:03:04.071579",
     "exception": false,
     "start_time": "2021-05-16T02:03:04.049438",
     "status": "completed"
    },
    "tags": []
   },
   "outputs": [
    {
     "name": "stdout",
     "output_type": "stream",
     "text": [
      "REPLICAS: 1\n"
     ]
    }
   ],
   "source": [
    "strategy, tpu = get_strategy()\n",
    "AUTO = tf.data.experimental.AUTOTUNE\n",
    "REPLICAS = strategy.num_replicas_in_sync\n",
    "print(f'REPLICAS: {REPLICAS}')"
   ]
  },
  {
   "cell_type": "markdown",
   "id": "sticky-invasion",
   "metadata": {
    "papermill": {
     "duration": 0.009637,
     "end_time": "2021-05-16T02:03:04.092214",
     "exception": false,
     "start_time": "2021-05-16T02:03:04.082577",
     "status": "completed"
    },
    "tags": []
   },
   "source": [
    "# Load data"
   ]
  },
  {
   "cell_type": "code",
   "execution_count": 3,
   "id": "earlier-premiere",
   "metadata": {
    "_kg_hide-input": true,
    "execution": {
     "iopub.execute_input": "2021-05-16T02:03:04.117776Z",
     "iopub.status.busy": "2021-05-16T02:03:04.117291Z",
     "iopub.status.idle": "2021-05-16T02:03:04.147012Z",
     "shell.execute_reply": "2021-05-16T02:03:04.147418Z"
    },
    "papermill": {
     "duration": 0.045472,
     "end_time": "2021-05-16T02:03:04.147546",
     "exception": false,
     "start_time": "2021-05-16T02:03:04.102074",
     "status": "completed"
    },
    "tags": []
   },
   "outputs": [
    {
     "name": "stdout",
     "output_type": "stream",
     "text": [
      "Test samples: 7\n"
     ]
    },
    {
     "data": {
      "text/html": [
       "<div>\n",
       "<style scoped>\n",
       "    .dataframe tbody tr th:only-of-type {\n",
       "        vertical-align: middle;\n",
       "    }\n",
       "\n",
       "    .dataframe tbody tr th {\n",
       "        vertical-align: top;\n",
       "    }\n",
       "\n",
       "    .dataframe thead th {\n",
       "        text-align: right;\n",
       "    }\n",
       "</style>\n",
       "<table border=\"1\" class=\"dataframe\">\n",
       "  <thead>\n",
       "    <tr style=\"text-align: right;\">\n",
       "      <th></th>\n",
       "      <th>id</th>\n",
       "      <th>url_legal</th>\n",
       "      <th>license</th>\n",
       "      <th>excerpt</th>\n",
       "    </tr>\n",
       "  </thead>\n",
       "  <tbody>\n",
       "    <tr>\n",
       "      <th>0</th>\n",
       "      <td>c0f722661</td>\n",
       "      <td>NaN</td>\n",
       "      <td>NaN</td>\n",
       "      <td>My hope lay in Jack's promise that he would keep a bright light burning in the upper story to guide me on my course. On a clear night this light w...</td>\n",
       "    </tr>\n",
       "    <tr>\n",
       "      <th>1</th>\n",
       "      <td>f0953f0a5</td>\n",
       "      <td>NaN</td>\n",
       "      <td>NaN</td>\n",
       "      <td>Dotty continued to go to Mrs. Gray's every night with the milk. Sometimes Katie went with her, and then they always paused a while under the acorn...</td>\n",
       "    </tr>\n",
       "    <tr>\n",
       "      <th>2</th>\n",
       "      <td>0df072751</td>\n",
       "      <td>NaN</td>\n",
       "      <td>NaN</td>\n",
       "      <td>It was a bright and cheerful scene that greeted the eyes of Captain Raymond and his son as they entered the parlor of the adjacent cottage.\\nIt wa...</td>\n",
       "    </tr>\n",
       "    <tr>\n",
       "      <th>3</th>\n",
       "      <td>04caf4e0c</td>\n",
       "      <td>https://en.wikipedia.org/wiki/Cell_division</td>\n",
       "      <td>CC BY-SA 3.0</td>\n",
       "      <td>Cell division is the process by which a parent cell divides into two or more daughter cells. Cell division usually occurs as part of a larger cell...</td>\n",
       "    </tr>\n",
       "    <tr>\n",
       "      <th>4</th>\n",
       "      <td>0e63f8bea</td>\n",
       "      <td>https://en.wikipedia.org/wiki/Debugging</td>\n",
       "      <td>CC BY-SA 3.0</td>\n",
       "      <td>Debugging is the process of finding and resolving of defects that prevent correct operation of computer software or a system. Debugging tends to b...</td>\n",
       "    </tr>\n",
       "  </tbody>\n",
       "</table>\n",
       "</div>"
      ],
      "text/plain": [
       "          id                                    url_legal       license  \\\n",
       "0  c0f722661                                          NaN           NaN   \n",
       "1  f0953f0a5                                          NaN           NaN   \n",
       "2  0df072751                                          NaN           NaN   \n",
       "3  04caf4e0c  https://en.wikipedia.org/wiki/Cell_division  CC BY-SA 3.0   \n",
       "4  0e63f8bea      https://en.wikipedia.org/wiki/Debugging  CC BY-SA 3.0   \n",
       "\n",
       "                                                                                                                                                 excerpt  \n",
       "0  My hope lay in Jack's promise that he would keep a bright light burning in the upper story to guide me on my course. On a clear night this light w...  \n",
       "1  Dotty continued to go to Mrs. Gray's every night with the milk. Sometimes Katie went with her, and then they always paused a while under the acorn...  \n",
       "2  It was a bright and cheerful scene that greeted the eyes of Captain Raymond and his son as they entered the parlor of the adjacent cottage.\\nIt wa...  \n",
       "3  Cell division is the process by which a parent cell divides into two or more daughter cells. Cell division usually occurs as part of a larger cell...  \n",
       "4  Debugging is the process of finding and resolving of defects that prevent correct operation of computer software or a system. Debugging tends to b...  "
      ]
     },
     "metadata": {},
     "output_type": "display_data"
    }
   ],
   "source": [
    "base_path = '/kaggle/input/'\n",
    "test_filepath = base_path + 'commonlitreadabilityprize/test.csv'\n",
    "test = pd.read_csv(test_filepath)\n",
    "print(f'Test samples: {len(test)}')\n",
    "display(test.head())"
   ]
  },
  {
   "cell_type": "markdown",
   "id": "tracked-review",
   "metadata": {
    "papermill": {
     "duration": 0.010487,
     "end_time": "2021-05-16T02:03:04.169058",
     "exception": false,
     "start_time": "2021-05-16T02:03:04.158571",
     "status": "completed"
    },
    "tags": []
   },
   "source": [
    "# Model parameters"
   ]
  },
  {
   "cell_type": "code",
   "execution_count": null,
   "id": "hearing-waters",
   "metadata": {
    "papermill": {
     "duration": 0.010723,
     "end_time": "2021-05-16T02:03:04.190429",
     "exception": false,
     "start_time": "2021-05-16T02:03:04.179706",
     "status": "completed"
    },
    "tags": []
   },
   "outputs": [],
   "source": []
  },
  {
   "cell_type": "code",
   "execution_count": 4,
   "id": "secure-mayor",
   "metadata": {
    "execution": {
     "iopub.execute_input": "2021-05-16T02:03:04.215812Z",
     "iopub.status.busy": "2021-05-16T02:03:04.215324Z",
     "iopub.status.idle": "2021-05-16T02:03:04.227076Z",
     "shell.execute_reply": "2021-05-16T02:03:04.226639Z"
    },
    "papermill": {
     "duration": 0.02607,
     "end_time": "2021-05-16T02:03:04.227184",
     "exception": false,
     "start_time": "2021-05-16T02:03:04.201114",
     "status": "completed"
    },
    "tags": []
   },
   "outputs": [
    {
     "data": {
      "text/plain": [
       "{'BATCH_SIZE': 64,\n",
       " 'LEARNING_RATE': 8e-05,\n",
       " 'EPOCHS': 100,\n",
       " 'ES_PATIENCE': 30,\n",
       " 'N_FOLDS': 5,\n",
       " 'N_USED_FOLDS': 1,\n",
       " 'SEQ_LEN': 256,\n",
       " 'BASE_MODEL': '/kaggle/input/huggingface-bert/bert-base-uncased',\n",
       " 'SEED': 0}"
      ]
     },
     "execution_count": 4,
     "metadata": {},
     "output_type": "execute_result"
    }
   ],
   "source": [
    "input_noteboks = [x for x in os.listdir(base_path) if '-commonlit-' in x]\n",
    "input_base_path = f'{base_path}{input_noteboks[0]}/'\n",
    "with open(input_base_path + 'config.json') as json_file:\n",
    "    config = json.load(json_file)\n",
    "\n",
    "config"
   ]
  },
  {
   "cell_type": "markdown",
   "id": "neither-federal",
   "metadata": {
    "papermill": {
     "duration": 0.010834,
     "end_time": "2021-05-16T02:03:04.249241",
     "exception": false,
     "start_time": "2021-05-16T02:03:04.238407",
     "status": "completed"
    },
    "tags": []
   },
   "source": [
    "## Auxiliary functions"
   ]
  },
  {
   "cell_type": "code",
   "execution_count": 5,
   "id": "homeless-equality",
   "metadata": {
    "_cell_guid": "79c7e3d0-c299-4dcb-8224-4455121ee9b0",
    "_kg_hide-input": true,
    "_uuid": "d629ff2d2480ee46fbb7e2d37f6b5fab8052498a",
    "execution": {
     "iopub.execute_input": "2021-05-16T02:03:04.281681Z",
     "iopub.status.busy": "2021-05-16T02:03:04.281017Z",
     "iopub.status.idle": "2021-05-16T02:03:04.283278Z",
     "shell.execute_reply": "2021-05-16T02:03:04.283667Z"
    },
    "papermill": {
     "duration": 0.023452,
     "end_time": "2021-05-16T02:03:04.283776",
     "exception": false,
     "start_time": "2021-05-16T02:03:04.260324",
     "status": "completed"
    },
    "tags": []
   },
   "outputs": [],
   "source": [
    "# Datasets utility functions\n",
    "def custom_standardization(text):\n",
    "    text = text.lower() # if encoder is uncased\n",
    "    text = text.strip()\n",
    "    return text\n",
    "\n",
    "def sample_target(features, target):\n",
    "    mean, stddev = target\n",
    "    sampled_target = tf.random.normal([], mean=tf.cast(mean, dtype=tf.float32), \n",
    "                                      stddev=tf.cast(stddev, dtype=tf.float32), dtype=tf.float32)\n",
    "    return (features, sampled_target)\n",
    "    \n",
    "def get_dataset(pandas_df, tokenizer, labeled=True, ordered=False, repeated=False, \n",
    "                is_sampled=False, batch_size=32, seq_len=128):\n",
    "    \"\"\"\n",
    "        Return a Tensorflow dataset ready for training or inference.\n",
    "    \"\"\"\n",
    "    text = [custom_standardization(text) for text in pandas_df['excerpt']]\n",
    "    \n",
    "    # Tokenize inputs\n",
    "    tokenized_inputs = tokenizer(text, max_length=seq_len, truncation=True, \n",
    "                                 padding='max_length', return_tensors='tf')\n",
    "    \n",
    "    if labeled:\n",
    "        dataset = tf.data.Dataset.from_tensor_slices(({'input_ids': tokenized_inputs['input_ids'], \n",
    "                                                       'token_type_ids': tokenized_inputs['token_type_ids'], \n",
    "                                                       'attention_mask': tokenized_inputs['attention_mask']}, \n",
    "                                                      (pandas_df['target'], pandas_df['standard_error'])))\n",
    "        if is_sampled:\n",
    "            dataset = dataset.map(sample_target, num_parallel_calls=tf.data.AUTOTUNE)\n",
    "    else:\n",
    "        dataset = tf.data.Dataset.from_tensor_slices({'input_ids': tokenized_inputs['input_ids'], \n",
    "                                                      'token_type_ids': tokenized_inputs['token_type_ids'], \n",
    "                                                      'attention_mask': tokenized_inputs['attention_mask']})\n",
    "        \n",
    "    if repeated:\n",
    "        dataset = dataset.repeat()\n",
    "    if not ordered:\n",
    "        dataset = dataset.shuffle(1024)\n",
    "    dataset = dataset.batch(batch_size)\n",
    "    dataset = dataset.prefetch(tf.data.AUTOTUNE)\n",
    "    return dataset"
   ]
  },
  {
   "cell_type": "code",
   "execution_count": 6,
   "id": "northern-bloom",
   "metadata": {
    "execution": {
     "iopub.execute_input": "2021-05-16T02:03:04.309385Z",
     "iopub.status.busy": "2021-05-16T02:03:04.308894Z",
     "iopub.status.idle": "2021-05-16T02:03:04.319097Z",
     "shell.execute_reply": "2021-05-16T02:03:04.319493Z"
    },
    "papermill": {
     "duration": 0.024808,
     "end_time": "2021-05-16T02:03:04.319615",
     "exception": false,
     "start_time": "2021-05-16T02:03:04.294807",
     "status": "completed"
    },
    "tags": []
   },
   "outputs": [
    {
     "name": "stdout",
     "output_type": "stream",
     "text": [
      "Models to predict:\n",
      "/kaggle/input/11-commonlit-bert-base-seq-256-steo-10/model_0.h5\n"
     ]
    }
   ],
   "source": [
    "model_path_list = glob.glob(f'{input_base_path}*.h5')\n",
    "model_path_list.sort()\n",
    "\n",
    "print('Models to predict:')\n",
    "print(*model_path_list, sep='\\n')"
   ]
  },
  {
   "cell_type": "markdown",
   "id": "marine-moses",
   "metadata": {
    "papermill": {
     "duration": 0.011387,
     "end_time": "2021-05-16T02:03:04.342453",
     "exception": false,
     "start_time": "2021-05-16T02:03:04.331066",
     "status": "completed"
    },
    "tags": []
   },
   "source": [
    "# Model"
   ]
  },
  {
   "cell_type": "code",
   "execution_count": 7,
   "id": "august-iraqi",
   "metadata": {
    "execution": {
     "iopub.execute_input": "2021-05-16T02:03:04.371733Z",
     "iopub.status.busy": "2021-05-16T02:03:04.371234Z",
     "iopub.status.idle": "2021-05-16T02:03:24.341270Z",
     "shell.execute_reply": "2021-05-16T02:03:24.341696Z"
    },
    "papermill": {
     "duration": 19.987919,
     "end_time": "2021-05-16T02:03:24.341860",
     "exception": false,
     "start_time": "2021-05-16T02:03:04.353941",
     "status": "completed"
    },
    "tags": []
   },
   "outputs": [
    {
     "name": "stderr",
     "output_type": "stream",
     "text": [
      "Some layers from the model checkpoint at /kaggle/input/huggingface-bert/bert-base-uncased were not used when initializing TFBertModel: ['mlm___cls', 'nsp___cls']\n",
      "- This IS expected if you are initializing TFBertModel from the checkpoint of a model trained on another task or with another architecture (e.g. initializing a BertForSequenceClassification model from a BertForPreTraining model).\n",
      "- This IS NOT expected if you are initializing TFBertModel from the checkpoint of a model that you expect to be exactly identical (initializing a BertForSequenceClassification model from a BertForSequenceClassification model).\n",
      "All the layers of TFBertModel were initialized from the model checkpoint at /kaggle/input/huggingface-bert/bert-base-uncased.\n",
      "If your task is similar to the task the model of the checkpoint was trained on, you can already use TFBertModel for predictions without further training.\n"
     ]
    },
    {
     "name": "stdout",
     "output_type": "stream",
     "text": [
      "Model: \"model\"\n",
      "__________________________________________________________________________________________________\n",
      "Layer (type)                    Output Shape         Param #     Connected to                     \n",
      "==================================================================================================\n",
      "attention_mask (InputLayer)     [(None, 256)]        0                                            \n",
      "__________________________________________________________________________________________________\n",
      "input_ids (InputLayer)          [(None, 256)]        0                                            \n",
      "__________________________________________________________________________________________________\n",
      "token_type_ids (InputLayer)     [(None, 256)]        0                                            \n",
      "__________________________________________________________________________________________________\n",
      "tf_bert_model (TFBertModel)     TFBaseModelOutputWit 109482240   attention_mask[0][0]             \n",
      "                                                                 input_ids[0][0]                  \n",
      "                                                                 token_type_ids[0][0]             \n",
      "__________________________________________________________________________________________________\n",
      "global_average_pooling1d (Globa (None, 768)          0           tf_bert_model[0][0]              \n",
      "__________________________________________________________________________________________________\n",
      "output (Dense)                  (None, 1)            769         global_average_pooling1d[0][0]   \n",
      "==================================================================================================\n",
      "Total params: 109,483,009\n",
      "Trainable params: 109,483,009\n",
      "Non-trainable params: 0\n",
      "__________________________________________________________________________________________________\n"
     ]
    }
   ],
   "source": [
    "def model_fn(encoder, seq_len=256):\n",
    "    input_ids = L.Input(shape=(seq_len,), dtype=tf.int32, name='input_ids')\n",
    "    input_token_type_ids = L.Input(shape=(seq_len,), dtype=tf.int32, name='token_type_ids')\n",
    "    input_attention_mask = L.Input(shape=(seq_len,), dtype=tf.int32, name='attention_mask')\n",
    "    \n",
    "    outputs = encoder({'input_ids': input_ids,  \n",
    "                       'token_type_ids': input_token_type_ids, \n",
    "                       'attention_mask': input_attention_mask})\n",
    "    last_hidden_state = outputs['last_hidden_state']\n",
    "    \n",
    "    x = L.GlobalAveragePooling1D()(last_hidden_state)\n",
    "    output = L.Dense(1, name='output')(x)\n",
    "    \n",
    "    model = Model(inputs=[input_ids, input_token_type_ids, input_attention_mask], outputs=output)\n",
    "    return model\n",
    "\n",
    "\n",
    "with strategy.scope():\n",
    "    encoder = TFAutoModel.from_pretrained(config['BASE_MODEL'])\n",
    "    model = model_fn(encoder, config['SEQ_LEN'])\n",
    "    \n",
    "model.summary()"
   ]
  },
  {
   "cell_type": "markdown",
   "id": "conscious-start",
   "metadata": {
    "papermill": {
     "duration": 0.01367,
     "end_time": "2021-05-16T02:03:24.369774",
     "exception": false,
     "start_time": "2021-05-16T02:03:24.356104",
     "status": "completed"
    },
    "tags": []
   },
   "source": [
    "# Test set predictions"
   ]
  },
  {
   "cell_type": "code",
   "execution_count": 8,
   "id": "least-storage",
   "metadata": {
    "_kg_hide-input": false,
    "_kg_hide-output": true,
    "execution": {
     "iopub.execute_input": "2021-05-16T02:03:24.404764Z",
     "iopub.status.busy": "2021-05-16T02:03:24.404192Z",
     "iopub.status.idle": "2021-05-16T02:03:32.490809Z",
     "shell.execute_reply": "2021-05-16T02:03:32.490049Z"
    },
    "papermill": {
     "duration": 8.106901,
     "end_time": "2021-05-16T02:03:32.490998",
     "exception": false,
     "start_time": "2021-05-16T02:03:24.384097",
     "status": "completed"
    },
    "tags": []
   },
   "outputs": [
    {
     "name": "stdout",
     "output_type": "stream",
     "text": [
      "/kaggle/input/11-commonlit-bert-base-seq-256-steo-10/model_0.h5\n"
     ]
    }
   ],
   "source": [
    "tokenizer = AutoTokenizer.from_pretrained(config['BASE_MODEL'])\n",
    "test_pred = []\n",
    "\n",
    "for model_path in model_path_list:\n",
    "    print(model_path)\n",
    "    if tpu: tf.tpu.experimental.initialize_tpu_system(tpu)\n",
    "    K.clear_session()\n",
    "    model.load_weights(model_path)\n",
    "\n",
    "    # Test predictions\n",
    "    test_ds = get_dataset(test, tokenizer, labeled=False, ordered=True, batch_size=config['BATCH_SIZE'], seq_len=config['SEQ_LEN'])\n",
    "    x_test = test_ds.map(lambda sample: sample)\n",
    "    test_pred.append(model.predict(x_test))"
   ]
  },
  {
   "cell_type": "markdown",
   "id": "necessary-daughter",
   "metadata": {
    "papermill": {
     "duration": 0.024647,
     "end_time": "2021-05-16T02:03:32.543650",
     "exception": false,
     "start_time": "2021-05-16T02:03:32.519003",
     "status": "completed"
    },
    "tags": []
   },
   "source": [
    "# Test set predictions"
   ]
  },
  {
   "cell_type": "code",
   "execution_count": 9,
   "id": "small-chrome",
   "metadata": {
    "execution": {
     "iopub.execute_input": "2021-05-16T02:03:32.598634Z",
     "iopub.status.busy": "2021-05-16T02:03:32.597900Z",
     "iopub.status.idle": "2021-05-16T02:03:32.815497Z",
     "shell.execute_reply": "2021-05-16T02:03:32.812600Z"
    },
    "papermill": {
     "duration": 0.248182,
     "end_time": "2021-05-16T02:03:32.815629",
     "exception": false,
     "start_time": "2021-05-16T02:03:32.567447",
     "status": "completed"
    },
    "tags": []
   },
   "outputs": [
    {
     "data": {
      "text/html": [
       "<div>\n",
       "<style scoped>\n",
       "    .dataframe tbody tr th:only-of-type {\n",
       "        vertical-align: middle;\n",
       "    }\n",
       "\n",
       "    .dataframe tbody tr th {\n",
       "        vertical-align: top;\n",
       "    }\n",
       "\n",
       "    .dataframe thead th {\n",
       "        text-align: right;\n",
       "    }\n",
       "</style>\n",
       "<table border=\"1\" class=\"dataframe\">\n",
       "  <thead>\n",
       "    <tr style=\"text-align: right;\">\n",
       "      <th></th>\n",
       "      <th>id</th>\n",
       "      <th>target</th>\n",
       "    </tr>\n",
       "  </thead>\n",
       "  <tbody>\n",
       "    <tr>\n",
       "      <th>0</th>\n",
       "      <td>c0f722661</td>\n",
       "      <td>-0.611628</td>\n",
       "    </tr>\n",
       "    <tr>\n",
       "      <th>1</th>\n",
       "      <td>f0953f0a5</td>\n",
       "      <td>-0.341534</td>\n",
       "    </tr>\n",
       "    <tr>\n",
       "      <th>2</th>\n",
       "      <td>0df072751</td>\n",
       "      <td>-0.403342</td>\n",
       "    </tr>\n",
       "    <tr>\n",
       "      <th>3</th>\n",
       "      <td>04caf4e0c</td>\n",
       "      <td>-2.230392</td>\n",
       "    </tr>\n",
       "    <tr>\n",
       "      <th>4</th>\n",
       "      <td>0e63f8bea</td>\n",
       "      <td>-1.707590</td>\n",
       "    </tr>\n",
       "    <tr>\n",
       "      <th>5</th>\n",
       "      <td>12537fe78</td>\n",
       "      <td>-0.930484</td>\n",
       "    </tr>\n",
       "    <tr>\n",
       "      <th>6</th>\n",
       "      <td>965e592c0</td>\n",
       "      <td>0.284059</td>\n",
       "    </tr>\n",
       "  </tbody>\n",
       "</table>\n",
       "</div>"
      ],
      "text/plain": [
       "          id    target\n",
       "0  c0f722661 -0.611628\n",
       "1  f0953f0a5 -0.341534\n",
       "2  0df072751 -0.403342\n",
       "3  04caf4e0c -2.230392\n",
       "4  0e63f8bea -1.707590\n",
       "5  12537fe78 -0.930484\n",
       "6  965e592c0  0.284059"
      ]
     },
     "metadata": {},
     "output_type": "display_data"
    }
   ],
   "source": [
    "submission = test[['id']]\n",
    "submission['target'] = np.mean(test_pred, axis=0)\n",
    "submission.to_csv('submission.csv', index=False)\n",
    "display(submission.head(10))"
   ]
  }
 ],
 "metadata": {
  "kernelspec": {
   "display_name": "Python 3",
   "language": "python",
   "name": "python3"
  },
  "language_info": {
   "codemirror_mode": {
    "name": "ipython",
    "version": 3
   },
   "file_extension": ".py",
   "mimetype": "text/x-python",
   "name": "python",
   "nbconvert_exporter": "python",
   "pygments_lexer": "ipython3",
   "version": "3.7.10"
  },
  "papermill": {
   "default_parameters": {},
   "duration": 45.69148,
   "end_time": "2021-05-16T02:03:35.988226",
   "environment_variables": {},
   "exception": null,
   "input_path": "__notebook__.ipynb",
   "output_path": "__notebook__.ipynb",
   "parameters": {},
   "start_time": "2021-05-16T02:02:50.296746",
   "version": "2.3.3"
  }
 },
 "nbformat": 4,
 "nbformat_minor": 5
}
