{
 "cells": [
  {
   "cell_type": "markdown",
   "id": "simple-snapshot",
   "metadata": {
    "papermill": {
     "duration": 0.010439,
     "end_time": "2021-05-16T11:25:07.075577",
     "exception": false,
     "start_time": "2021-05-16T11:25:07.065138",
     "status": "completed"
    },
    "tags": []
   },
   "source": [
    "## Dependencies"
   ]
  },
  {
   "cell_type": "code",
   "execution_count": 1,
   "id": "synthetic-thanksgiving",
   "metadata": {
    "_cell_guid": "b1076dfc-b9ad-4769-8c92-a6c4dae69d19",
    "_kg_hide-input": true,
    "_kg_hide-output": true,
    "_uuid": "8f2839f25d086af736a60e9eeb907d3b93b6e0e5",
    "execution": {
     "iopub.execute_input": "2021-05-16T11:25:07.104666Z",
     "iopub.status.busy": "2021-05-16T11:25:07.104038Z",
     "iopub.status.idle": "2021-05-16T11:25:14.597902Z",
     "shell.execute_reply": "2021-05-16T11:25:14.596865Z"
    },
    "papermill": {
     "duration": 7.513101,
     "end_time": "2021-05-16T11:25:14.598087",
     "exception": false,
     "start_time": "2021-05-16T11:25:07.084986",
     "status": "completed"
    },
    "tags": []
   },
   "outputs": [],
   "source": [
    "import warnings, math, json, glob\n",
    "import pandas as pd\n",
    "import tensorflow.keras.layers as L\n",
    "import tensorflow.keras.backend as K\n",
    "from tensorflow.keras import Model\n",
    "from transformers import TFAutoModelForSequenceClassification, TFAutoModel, AutoTokenizer\n",
    "from commonlit_scripts import *\n",
    "\n",
    "\n",
    "seed = 0\n",
    "seed_everything(seed)\n",
    "warnings.filterwarnings('ignore')\n",
    "pd.set_option('display.max_colwidth', 150)"
   ]
  },
  {
   "cell_type": "markdown",
   "id": "greatest-person",
   "metadata": {
    "papermill": {
     "duration": 0.008806,
     "end_time": "2021-05-16T11:25:14.616465",
     "exception": false,
     "start_time": "2021-05-16T11:25:14.607659",
     "status": "completed"
    },
    "tags": []
   },
   "source": [
    "### Hardware configuration"
   ]
  },
  {
   "cell_type": "code",
   "execution_count": 2,
   "id": "outside-processing",
   "metadata": {
    "_kg_hide-input": true,
    "_kg_hide-output": false,
    "execution": {
     "iopub.execute_input": "2021-05-16T11:25:14.638170Z",
     "iopub.status.busy": "2021-05-16T11:25:14.637566Z",
     "iopub.status.idle": "2021-05-16T11:25:14.646717Z",
     "shell.execute_reply": "2021-05-16T11:25:14.647468Z"
    },
    "papermill": {
     "duration": 0.022259,
     "end_time": "2021-05-16T11:25:14.647636",
     "exception": false,
     "start_time": "2021-05-16T11:25:14.625377",
     "status": "completed"
    },
    "tags": []
   },
   "outputs": [
    {
     "name": "stdout",
     "output_type": "stream",
     "text": [
      "REPLICAS: 1\n"
     ]
    }
   ],
   "source": [
    "strategy, tpu = get_strategy()\n",
    "AUTO = tf.data.AUTOTUNE\n",
    "REPLICAS = strategy.num_replicas_in_sync\n",
    "print(f'REPLICAS: {REPLICAS}')"
   ]
  },
  {
   "cell_type": "markdown",
   "id": "available-seafood",
   "metadata": {
    "papermill": {
     "duration": 0.009259,
     "end_time": "2021-05-16T11:25:14.667275",
     "exception": false,
     "start_time": "2021-05-16T11:25:14.658016",
     "status": "completed"
    },
    "tags": []
   },
   "source": [
    "# Load data"
   ]
  },
  {
   "cell_type": "code",
   "execution_count": 3,
   "id": "first-merchant",
   "metadata": {
    "_kg_hide-input": true,
    "execution": {
     "iopub.execute_input": "2021-05-16T11:25:14.692659Z",
     "iopub.status.busy": "2021-05-16T11:25:14.692163Z",
     "iopub.status.idle": "2021-05-16T11:25:14.721834Z",
     "shell.execute_reply": "2021-05-16T11:25:14.721249Z"
    },
    "papermill": {
     "duration": 0.045409,
     "end_time": "2021-05-16T11:25:14.721975",
     "exception": false,
     "start_time": "2021-05-16T11:25:14.676566",
     "status": "completed"
    },
    "tags": []
   },
   "outputs": [
    {
     "name": "stdout",
     "output_type": "stream",
     "text": [
      "Test samples: 7\n"
     ]
    },
    {
     "data": {
      "text/html": [
       "<div>\n",
       "<style scoped>\n",
       "    .dataframe tbody tr th:only-of-type {\n",
       "        vertical-align: middle;\n",
       "    }\n",
       "\n",
       "    .dataframe tbody tr th {\n",
       "        vertical-align: top;\n",
       "    }\n",
       "\n",
       "    .dataframe thead th {\n",
       "        text-align: right;\n",
       "    }\n",
       "</style>\n",
       "<table border=\"1\" class=\"dataframe\">\n",
       "  <thead>\n",
       "    <tr style=\"text-align: right;\">\n",
       "      <th></th>\n",
       "      <th>id</th>\n",
       "      <th>url_legal</th>\n",
       "      <th>license</th>\n",
       "      <th>excerpt</th>\n",
       "    </tr>\n",
       "  </thead>\n",
       "  <tbody>\n",
       "    <tr>\n",
       "      <th>0</th>\n",
       "      <td>c0f722661</td>\n",
       "      <td>NaN</td>\n",
       "      <td>NaN</td>\n",
       "      <td>My hope lay in Jack's promise that he would keep a bright light burning in the upper story to guide me on my course. On a clear night this light w...</td>\n",
       "    </tr>\n",
       "    <tr>\n",
       "      <th>1</th>\n",
       "      <td>f0953f0a5</td>\n",
       "      <td>NaN</td>\n",
       "      <td>NaN</td>\n",
       "      <td>Dotty continued to go to Mrs. Gray's every night with the milk. Sometimes Katie went with her, and then they always paused a while under the acorn...</td>\n",
       "    </tr>\n",
       "    <tr>\n",
       "      <th>2</th>\n",
       "      <td>0df072751</td>\n",
       "      <td>NaN</td>\n",
       "      <td>NaN</td>\n",
       "      <td>It was a bright and cheerful scene that greeted the eyes of Captain Raymond and his son as they entered the parlor of the adjacent cottage.\\nIt wa...</td>\n",
       "    </tr>\n",
       "    <tr>\n",
       "      <th>3</th>\n",
       "      <td>04caf4e0c</td>\n",
       "      <td>https://en.wikipedia.org/wiki/Cell_division</td>\n",
       "      <td>CC BY-SA 3.0</td>\n",
       "      <td>Cell division is the process by which a parent cell divides into two or more daughter cells. Cell division usually occurs as part of a larger cell...</td>\n",
       "    </tr>\n",
       "    <tr>\n",
       "      <th>4</th>\n",
       "      <td>0e63f8bea</td>\n",
       "      <td>https://en.wikipedia.org/wiki/Debugging</td>\n",
       "      <td>CC BY-SA 3.0</td>\n",
       "      <td>Debugging is the process of finding and resolving of defects that prevent correct operation of computer software or a system. Debugging tends to b...</td>\n",
       "    </tr>\n",
       "  </tbody>\n",
       "</table>\n",
       "</div>"
      ],
      "text/plain": [
       "          id                                    url_legal       license  \\\n",
       "0  c0f722661                                          NaN           NaN   \n",
       "1  f0953f0a5                                          NaN           NaN   \n",
       "2  0df072751                                          NaN           NaN   \n",
       "3  04caf4e0c  https://en.wikipedia.org/wiki/Cell_division  CC BY-SA 3.0   \n",
       "4  0e63f8bea      https://en.wikipedia.org/wiki/Debugging  CC BY-SA 3.0   \n",
       "\n",
       "                                                                                                                                                 excerpt  \n",
       "0  My hope lay in Jack's promise that he would keep a bright light burning in the upper story to guide me on my course. On a clear night this light w...  \n",
       "1  Dotty continued to go to Mrs. Gray's every night with the milk. Sometimes Katie went with her, and then they always paused a while under the acorn...  \n",
       "2  It was a bright and cheerful scene that greeted the eyes of Captain Raymond and his son as they entered the parlor of the adjacent cottage.\\nIt wa...  \n",
       "3  Cell division is the process by which a parent cell divides into two or more daughter cells. Cell division usually occurs as part of a larger cell...  \n",
       "4  Debugging is the process of finding and resolving of defects that prevent correct operation of computer software or a system. Debugging tends to b...  "
      ]
     },
     "metadata": {},
     "output_type": "display_data"
    }
   ],
   "source": [
    "base_path = '/kaggle/input/'\n",
    "test_filepath = base_path + 'commonlitreadabilityprize/test.csv'\n",
    "test = pd.read_csv(test_filepath)\n",
    "print(f'Test samples: {len(test)}')\n",
    "display(test.head())"
   ]
  },
  {
   "cell_type": "markdown",
   "id": "dressed-keeping",
   "metadata": {
    "papermill": {
     "duration": 0.010257,
     "end_time": "2021-05-16T11:25:14.743108",
     "exception": false,
     "start_time": "2021-05-16T11:25:14.732851",
     "status": "completed"
    },
    "tags": []
   },
   "source": [
    "# Model parameters"
   ]
  },
  {
   "cell_type": "code",
   "execution_count": 4,
   "id": "political-inspection",
   "metadata": {
    "execution": {
     "iopub.execute_input": "2021-05-16T11:25:14.767479Z",
     "iopub.status.busy": "2021-05-16T11:25:14.766994Z",
     "iopub.status.idle": "2021-05-16T11:25:14.778414Z",
     "shell.execute_reply": "2021-05-16T11:25:14.778019Z"
    },
    "papermill": {
     "duration": 0.025152,
     "end_time": "2021-05-16T11:25:14.778513",
     "exception": false,
     "start_time": "2021-05-16T11:25:14.753361",
     "status": "completed"
    },
    "tags": []
   },
   "outputs": [
    {
     "data": {
      "text/plain": [
       "{'BATCH_SIZE': 64,\n",
       " 'LEARNING_RATE': 8e-05,\n",
       " 'EPOCHS': 100,\n",
       " 'ES_PATIENCE': 30,\n",
       " 'N_FOLDS': 5,\n",
       " 'N_USED_FOLDS': 1,\n",
       " 'SEQ_LEN': 256,\n",
       " 'BASE_MODEL': '/kaggle/input/huggingface-bert/bert-base-uncased',\n",
       " 'SEED': 0}"
      ]
     },
     "execution_count": 4,
     "metadata": {},
     "output_type": "execute_result"
    }
   ],
   "source": [
    "input_noteboks = [x for x in os.listdir(base_path) if '-commonlit-' in x]\n",
    "input_base_path = f'{base_path}{input_noteboks[0]}/'\n",
    "with open(input_base_path + 'config.json') as json_file:\n",
    "    config = json.load(json_file)\n",
    "\n",
    "config"
   ]
  },
  {
   "cell_type": "markdown",
   "id": "baking-saudi",
   "metadata": {
    "papermill": {
     "duration": 0.010575,
     "end_time": "2021-05-16T11:25:14.799819",
     "exception": false,
     "start_time": "2021-05-16T11:25:14.789244",
     "status": "completed"
    },
    "tags": []
   },
   "source": [
    "## Auxiliary functions"
   ]
  },
  {
   "cell_type": "code",
   "execution_count": 5,
   "id": "genetic-wrong",
   "metadata": {
    "_cell_guid": "79c7e3d0-c299-4dcb-8224-4455121ee9b0",
    "_kg_hide-input": true,
    "_uuid": "d629ff2d2480ee46fbb7e2d37f6b5fab8052498a",
    "execution": {
     "iopub.execute_input": "2021-05-16T11:25:14.832584Z",
     "iopub.status.busy": "2021-05-16T11:25:14.831910Z",
     "iopub.status.idle": "2021-05-16T11:25:14.834678Z",
     "shell.execute_reply": "2021-05-16T11:25:14.834287Z"
    },
    "papermill": {
     "duration": 0.024066,
     "end_time": "2021-05-16T11:25:14.834776",
     "exception": false,
     "start_time": "2021-05-16T11:25:14.810710",
     "status": "completed"
    },
    "tags": []
   },
   "outputs": [],
   "source": [
    "# Datasets utility functions\n",
    "def custom_standardization(text, is_lower=True):\n",
    "    if is_lower:\n",
    "        text = text.lower() # if encoder is uncased\n",
    "    text = text.strip()\n",
    "    return text\n",
    "\n",
    "def sample_target(features, target):\n",
    "    mean, stddev = target\n",
    "    sampled_target = tf.random.normal([], mean=tf.cast(mean, dtype=tf.float32), \n",
    "                                      stddev=tf.cast(stddev, dtype=tf.float32), dtype=tf.float32)\n",
    "    return (features, sampled_target)\n",
    "\n",
    "def get_dataset(pandas_df, tokenizer, labeled=True, ordered=False, repeated=False, \n",
    "                is_sampled=False, batch_size=32, seq_len=128, is_lower=True):\n",
    "    \"\"\"\n",
    "        Return a Tensorflow dataset ready for training or inference.\n",
    "    \"\"\"\n",
    "    text = [custom_standardization(text, is_lower) for text in pandas_df['excerpt']]\n",
    "    \n",
    "    # Tokenize inputs\n",
    "    tokenized_inputs = tokenizer(text, max_length=seq_len, truncation=True, \n",
    "                                 padding='max_length', return_tensors='tf')\n",
    "    \n",
    "    if labeled:\n",
    "        dataset = tf.data.Dataset.from_tensor_slices(({'input_ids': tokenized_inputs['input_ids'], \n",
    "                                                       'token_type_ids': tokenized_inputs['token_type_ids'], \n",
    "                                                       'attention_mask': tokenized_inputs['attention_mask']}, \n",
    "                                                      (pandas_df['target'], pandas_df['standard_error'])))\n",
    "        if is_sampled:\n",
    "            dataset = dataset.map(sample_target, num_parallel_calls=tf.data.AUTOTUNE)\n",
    "    else:\n",
    "        dataset = tf.data.Dataset.from_tensor_slices({'input_ids': tokenized_inputs['input_ids'], \n",
    "                                                      'token_type_ids': tokenized_inputs['token_type_ids'], \n",
    "                                                      'attention_mask': tokenized_inputs['attention_mask']})\n",
    "        \n",
    "    if repeated:\n",
    "        dataset = dataset.repeat()\n",
    "    if not ordered:\n",
    "        dataset = dataset.shuffle(2048)\n",
    "    dataset = dataset.batch(batch_size)\n",
    "    dataset = dataset.cache()\n",
    "    dataset = dataset.prefetch(tf.data.AUTOTUNE)\n",
    "    return dataset"
   ]
  },
  {
   "cell_type": "code",
   "execution_count": 6,
   "id": "phantom-knight",
   "metadata": {
    "execution": {
     "iopub.execute_input": "2021-05-16T11:25:14.860175Z",
     "iopub.status.busy": "2021-05-16T11:25:14.859635Z",
     "iopub.status.idle": "2021-05-16T11:25:14.871871Z",
     "shell.execute_reply": "2021-05-16T11:25:14.872406Z"
    },
    "papermill": {
     "duration": 0.026837,
     "end_time": "2021-05-16T11:25:14.872563",
     "exception": false,
     "start_time": "2021-05-16T11:25:14.845726",
     "status": "completed"
    },
    "tags": []
   },
   "outputs": [
    {
     "name": "stdout",
     "output_type": "stream",
     "text": [
      "Models to predict:\n",
      "/kaggle/input/12-commonlit-bert-base-seq-256-cls-token/model_0.h5\n"
     ]
    }
   ],
   "source": [
    "model_path_list = glob.glob(f'{input_base_path}*.h5')\n",
    "model_path_list.sort()\n",
    "\n",
    "print('Models to predict:')\n",
    "print(*model_path_list, sep='\\n')"
   ]
  },
  {
   "cell_type": "markdown",
   "id": "loved-eligibility",
   "metadata": {
    "papermill": {
     "duration": 0.011441,
     "end_time": "2021-05-16T11:25:14.895796",
     "exception": false,
     "start_time": "2021-05-16T11:25:14.884355",
     "status": "completed"
    },
    "tags": []
   },
   "source": [
    "# Model"
   ]
  },
  {
   "cell_type": "code",
   "execution_count": 7,
   "id": "considered-filename",
   "metadata": {
    "execution": {
     "iopub.execute_input": "2021-05-16T11:25:14.924695Z",
     "iopub.status.busy": "2021-05-16T11:25:14.924199Z",
     "iopub.status.idle": "2021-05-16T11:25:35.247075Z",
     "shell.execute_reply": "2021-05-16T11:25:35.247620Z"
    },
    "papermill": {
     "duration": 20.340867,
     "end_time": "2021-05-16T11:25:35.247818",
     "exception": false,
     "start_time": "2021-05-16T11:25:14.906951",
     "status": "completed"
    },
    "tags": []
   },
   "outputs": [
    {
     "name": "stderr",
     "output_type": "stream",
     "text": [
      "Some layers from the model checkpoint at /kaggle/input/huggingface-bert/bert-base-uncased were not used when initializing TFBertModel: ['mlm___cls', 'nsp___cls']\n",
      "- This IS expected if you are initializing TFBertModel from the checkpoint of a model trained on another task or with another architecture (e.g. initializing a BertForSequenceClassification model from a BertForPreTraining model).\n",
      "- This IS NOT expected if you are initializing TFBertModel from the checkpoint of a model that you expect to be exactly identical (initializing a BertForSequenceClassification model from a BertForSequenceClassification model).\n",
      "All the layers of TFBertModel were initialized from the model checkpoint at /kaggle/input/huggingface-bert/bert-base-uncased.\n",
      "If your task is similar to the task the model of the checkpoint was trained on, you can already use TFBertModel for predictions without further training.\n"
     ]
    },
    {
     "name": "stdout",
     "output_type": "stream",
     "text": [
      "Model: \"model\"\n",
      "__________________________________________________________________________________________________\n",
      "Layer (type)                    Output Shape         Param #     Connected to                     \n",
      "==================================================================================================\n",
      "attention_mask (InputLayer)     [(None, 256)]        0                                            \n",
      "__________________________________________________________________________________________________\n",
      "input_ids (InputLayer)          [(None, 256)]        0                                            \n",
      "__________________________________________________________________________________________________\n",
      "token_type_ids (InputLayer)     [(None, 256)]        0                                            \n",
      "__________________________________________________________________________________________________\n",
      "tf_bert_model (TFBertModel)     TFBaseModelOutputWit 109482240   attention_mask[0][0]             \n",
      "                                                                 input_ids[0][0]                  \n",
      "                                                                 token_type_ids[0][0]             \n",
      "__________________________________________________________________________________________________\n",
      "tf.__operators__.getitem (Slici (None, 768)          0           tf_bert_model[0][0]              \n",
      "__________________________________________________________________________________________________\n",
      "output (Dense)                  (None, 1)            769         tf.__operators__.getitem[0][0]   \n",
      "==================================================================================================\n",
      "Total params: 109,483,009\n",
      "Trainable params: 109,483,009\n",
      "Non-trainable params: 0\n",
      "__________________________________________________________________________________________________\n"
     ]
    }
   ],
   "source": [
    "def model_fn(encoder, seq_len=256):\n",
    "    input_ids = L.Input(shape=(seq_len,), dtype=tf.int32, name='input_ids')\n",
    "    input_token_type_ids = L.Input(shape=(seq_len,), dtype=tf.int32, name='token_type_ids')\n",
    "    input_attention_mask = L.Input(shape=(seq_len,), dtype=tf.int32, name='attention_mask')\n",
    "    \n",
    "    outputs = encoder({'input_ids': input_ids,  \n",
    "                       'token_type_ids': input_token_type_ids, \n",
    "                       'attention_mask': input_attention_mask})\n",
    "    last_hidden_state = outputs['last_hidden_state']\n",
    "    \n",
    "    cls_token = last_hidden_state[:, 0, :]\n",
    "    output = L.Dense(1, name='output')(cls_token)\n",
    "    \n",
    "    model = Model(inputs=[input_ids, input_token_type_ids, input_attention_mask], outputs=output)\n",
    "    return model\n",
    "\n",
    "\n",
    "with strategy.scope():\n",
    "    encoder = TFAutoModel.from_pretrained(config['BASE_MODEL'])\n",
    "    model = model_fn(encoder, config['SEQ_LEN'])\n",
    "    \n",
    "model.summary()"
   ]
  },
  {
   "cell_type": "markdown",
   "id": "detailed-simpson",
   "metadata": {
    "papermill": {
     "duration": 0.011882,
     "end_time": "2021-05-16T11:25:35.273073",
     "exception": false,
     "start_time": "2021-05-16T11:25:35.261191",
     "status": "completed"
    },
    "tags": []
   },
   "source": [
    "# Test set predictions"
   ]
  },
  {
   "cell_type": "code",
   "execution_count": 8,
   "id": "advisory-dover",
   "metadata": {
    "_kg_hide-input": false,
    "_kg_hide-output": true,
    "execution": {
     "iopub.execute_input": "2021-05-16T11:25:35.302687Z",
     "iopub.status.busy": "2021-05-16T11:25:35.302172Z",
     "iopub.status.idle": "2021-05-16T11:25:44.106361Z",
     "shell.execute_reply": "2021-05-16T11:25:44.107473Z"
    },
    "papermill": {
     "duration": 8.822397,
     "end_time": "2021-05-16T11:25:44.107682",
     "exception": false,
     "start_time": "2021-05-16T11:25:35.285285",
     "status": "completed"
    },
    "tags": []
   },
   "outputs": [
    {
     "name": "stdout",
     "output_type": "stream",
     "text": [
      "/kaggle/input/12-commonlit-bert-base-seq-256-cls-token/model_0.h5\n"
     ]
    }
   ],
   "source": [
    "tokenizer = AutoTokenizer.from_pretrained(config['BASE_MODEL'])\n",
    "test_pred = []\n",
    "\n",
    "for model_path in model_path_list:\n",
    "    print(model_path)\n",
    "    if tpu: tf.tpu.experimental.initialize_tpu_system(tpu)\n",
    "    K.clear_session()\n",
    "    model.load_weights(model_path)\n",
    "\n",
    "    # Test predictions\n",
    "    test_ds = get_dataset(test, tokenizer, labeled=False, ordered=True, batch_size=config['BATCH_SIZE'], seq_len=config['SEQ_LEN'])\n",
    "    x_test = test_ds.map(lambda sample: sample)\n",
    "    test_pred.append(model.predict(x_test))"
   ]
  },
  {
   "cell_type": "markdown",
   "id": "failing-elder",
   "metadata": {
    "papermill": {
     "duration": 0.020835,
     "end_time": "2021-05-16T11:25:44.151669",
     "exception": false,
     "start_time": "2021-05-16T11:25:44.130834",
     "status": "completed"
    },
    "tags": []
   },
   "source": [
    "# Test set predictions"
   ]
  },
  {
   "cell_type": "code",
   "execution_count": 9,
   "id": "federal-empty",
   "metadata": {
    "execution": {
     "iopub.execute_input": "2021-05-16T11:25:44.201071Z",
     "iopub.status.busy": "2021-05-16T11:25:44.200324Z",
     "iopub.status.idle": "2021-05-16T11:25:44.360229Z",
     "shell.execute_reply": "2021-05-16T11:25:44.360631Z"
    },
    "papermill": {
     "duration": 0.188499,
     "end_time": "2021-05-16T11:25:44.360784",
     "exception": false,
     "start_time": "2021-05-16T11:25:44.172285",
     "status": "completed"
    },
    "tags": []
   },
   "outputs": [
    {
     "data": {
      "text/html": [
       "<div>\n",
       "<style scoped>\n",
       "    .dataframe tbody tr th:only-of-type {\n",
       "        vertical-align: middle;\n",
       "    }\n",
       "\n",
       "    .dataframe tbody tr th {\n",
       "        vertical-align: top;\n",
       "    }\n",
       "\n",
       "    .dataframe thead th {\n",
       "        text-align: right;\n",
       "    }\n",
       "</style>\n",
       "<table border=\"1\" class=\"dataframe\">\n",
       "  <thead>\n",
       "    <tr style=\"text-align: right;\">\n",
       "      <th></th>\n",
       "      <th>id</th>\n",
       "      <th>target</th>\n",
       "    </tr>\n",
       "  </thead>\n",
       "  <tbody>\n",
       "    <tr>\n",
       "      <th>0</th>\n",
       "      <td>c0f722661</td>\n",
       "      <td>-0.384004</td>\n",
       "    </tr>\n",
       "    <tr>\n",
       "      <th>1</th>\n",
       "      <td>f0953f0a5</td>\n",
       "      <td>-0.542672</td>\n",
       "    </tr>\n",
       "    <tr>\n",
       "      <th>2</th>\n",
       "      <td>0df072751</td>\n",
       "      <td>-0.588523</td>\n",
       "    </tr>\n",
       "    <tr>\n",
       "      <th>3</th>\n",
       "      <td>04caf4e0c</td>\n",
       "      <td>-2.197515</td>\n",
       "    </tr>\n",
       "    <tr>\n",
       "      <th>4</th>\n",
       "      <td>0e63f8bea</td>\n",
       "      <td>-1.764441</td>\n",
       "    </tr>\n",
       "    <tr>\n",
       "      <th>5</th>\n",
       "      <td>12537fe78</td>\n",
       "      <td>-0.853104</td>\n",
       "    </tr>\n",
       "    <tr>\n",
       "      <th>6</th>\n",
       "      <td>965e592c0</td>\n",
       "      <td>0.018247</td>\n",
       "    </tr>\n",
       "  </tbody>\n",
       "</table>\n",
       "</div>"
      ],
      "text/plain": [
       "          id    target\n",
       "0  c0f722661 -0.384004\n",
       "1  f0953f0a5 -0.542672\n",
       "2  0df072751 -0.588523\n",
       "3  04caf4e0c -2.197515\n",
       "4  0e63f8bea -1.764441\n",
       "5  12537fe78 -0.853104\n",
       "6  965e592c0  0.018247"
      ]
     },
     "metadata": {},
     "output_type": "display_data"
    }
   ],
   "source": [
    "submission = test[['id']]\n",
    "submission['target'] = np.mean(test_pred, axis=0)\n",
    "submission.to_csv('submission.csv', index=False)\n",
    "display(submission.head(10))"
   ]
  }
 ],
 "metadata": {
  "kernelspec": {
   "display_name": "Python 3",
   "language": "python",
   "name": "python3"
  },
  "language_info": {
   "codemirror_mode": {
    "name": "ipython",
    "version": 3
   },
   "file_extension": ".py",
   "mimetype": "text/x-python",
   "name": "python",
   "nbconvert_exporter": "python",
   "pygments_lexer": "ipython3",
   "version": "3.7.10"
  },
  "papermill": {
   "default_parameters": {},
   "duration": 46.709571,
   "end_time": "2021-05-16T11:25:47.144964",
   "environment_variables": {},
   "exception": null,
   "input_path": "__notebook__.ipynb",
   "output_path": "__notebook__.ipynb",
   "parameters": {},
   "start_time": "2021-05-16T11:25:00.435393",
   "version": "2.3.3"
  }
 },
 "nbformat": 4,
 "nbformat_minor": 5
}
