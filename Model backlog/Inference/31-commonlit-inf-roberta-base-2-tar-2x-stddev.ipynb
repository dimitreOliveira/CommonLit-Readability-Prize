{
 "cells": [
  {
   "cell_type": "markdown",
   "id": "proof-composition",
   "metadata": {
    "papermill": {
     "duration": 0.017708,
     "end_time": "2021-05-20T23:03:54.941148",
     "exception": false,
     "start_time": "2021-05-20T23:03:54.923440",
     "status": "completed"
    },
    "tags": []
   },
   "source": [
    "## Dependencies"
   ]
  },
  {
   "cell_type": "code",
   "execution_count": 1,
   "id": "tropical-sherman",
   "metadata": {
    "_cell_guid": "b1076dfc-b9ad-4769-8c92-a6c4dae69d19",
    "_kg_hide-input": true,
    "_kg_hide-output": true,
    "_uuid": "8f2839f25d086af736a60e9eeb907d3b93b6e0e5",
    "execution": {
     "iopub.execute_input": "2021-05-20T23:03:54.984416Z",
     "iopub.status.busy": "2021-05-20T23:03:54.983000Z",
     "iopub.status.idle": "2021-05-20T23:04:02.374430Z",
     "shell.execute_reply": "2021-05-20T23:04:02.373488Z",
     "shell.execute_reply.started": "2021-05-20T23:02:59.932123Z"
    },
    "papermill": {
     "duration": 7.416868,
     "end_time": "2021-05-20T23:04:02.374576",
     "exception": false,
     "start_time": "2021-05-20T23:03:54.957708",
     "status": "completed"
    },
    "tags": []
   },
   "outputs": [],
   "source": [
    "import warnings, math, json, glob\n",
    "import pandas as pd\n",
    "import tensorflow.keras.layers as L\n",
    "import tensorflow.keras.backend as K\n",
    "from tensorflow.keras import Model\n",
    "from transformers import TFAutoModelForSequenceClassification, TFAutoModel, AutoTokenizer\n",
    "from commonlit_scripts import *\n",
    "\n",
    "\n",
    "seed = 0\n",
    "seed_everything(seed)\n",
    "warnings.filterwarnings('ignore')\n",
    "pd.set_option('display.max_colwidth', 150)"
   ]
  },
  {
   "cell_type": "markdown",
   "id": "after-intelligence",
   "metadata": {
    "papermill": {
     "duration": 0.009752,
     "end_time": "2021-05-20T23:04:02.394521",
     "exception": false,
     "start_time": "2021-05-20T23:04:02.384769",
     "status": "completed"
    },
    "tags": []
   },
   "source": [
    "### Hardware configuration"
   ]
  },
  {
   "cell_type": "code",
   "execution_count": 2,
   "id": "chubby-dispatch",
   "metadata": {
    "_kg_hide-input": true,
    "_kg_hide-output": false,
    "execution": {
     "iopub.execute_input": "2021-05-20T23:04:02.418329Z",
     "iopub.status.busy": "2021-05-20T23:04:02.417710Z",
     "iopub.status.idle": "2021-05-20T23:04:02.426385Z",
     "shell.execute_reply": "2021-05-20T23:04:02.427126Z",
     "shell.execute_reply.started": "2021-05-20T23:03:08.068855Z"
    },
    "papermill": {
     "duration": 0.022851,
     "end_time": "2021-05-20T23:04:02.427291",
     "exception": false,
     "start_time": "2021-05-20T23:04:02.404440",
     "status": "completed"
    },
    "tags": []
   },
   "outputs": [
    {
     "name": "stdout",
     "output_type": "stream",
     "text": [
      "REPLICAS: 1\n"
     ]
    }
   ],
   "source": [
    "strategy, tpu = get_strategy()\n",
    "AUTO = tf.data.AUTOTUNE\n",
    "REPLICAS = strategy.num_replicas_in_sync\n",
    "print(f'REPLICAS: {REPLICAS}')"
   ]
  },
  {
   "cell_type": "markdown",
   "id": "cloudy-parade",
   "metadata": {
    "papermill": {
     "duration": 0.010113,
     "end_time": "2021-05-20T23:04:02.447836",
     "exception": false,
     "start_time": "2021-05-20T23:04:02.437723",
     "status": "completed"
    },
    "tags": []
   },
   "source": [
    "# Load data"
   ]
  },
  {
   "cell_type": "code",
   "execution_count": 3,
   "id": "planned-evanescence",
   "metadata": {
    "_kg_hide-input": true,
    "execution": {
     "iopub.execute_input": "2021-05-20T23:04:02.475067Z",
     "iopub.status.busy": "2021-05-20T23:04:02.474495Z",
     "iopub.status.idle": "2021-05-20T23:04:02.501194Z",
     "shell.execute_reply": "2021-05-20T23:04:02.501658Z",
     "shell.execute_reply.started": "2021-05-20T23:03:08.082837Z"
    },
    "papermill": {
     "duration": 0.043681,
     "end_time": "2021-05-20T23:04:02.501808",
     "exception": false,
     "start_time": "2021-05-20T23:04:02.458127",
     "status": "completed"
    },
    "tags": []
   },
   "outputs": [
    {
     "name": "stdout",
     "output_type": "stream",
     "text": [
      "Test samples: 7\n"
     ]
    },
    {
     "data": {
      "text/html": [
       "<div>\n",
       "<style scoped>\n",
       "    .dataframe tbody tr th:only-of-type {\n",
       "        vertical-align: middle;\n",
       "    }\n",
       "\n",
       "    .dataframe tbody tr th {\n",
       "        vertical-align: top;\n",
       "    }\n",
       "\n",
       "    .dataframe thead th {\n",
       "        text-align: right;\n",
       "    }\n",
       "</style>\n",
       "<table border=\"1\" class=\"dataframe\">\n",
       "  <thead>\n",
       "    <tr style=\"text-align: right;\">\n",
       "      <th></th>\n",
       "      <th>id</th>\n",
       "      <th>url_legal</th>\n",
       "      <th>license</th>\n",
       "      <th>excerpt</th>\n",
       "    </tr>\n",
       "  </thead>\n",
       "  <tbody>\n",
       "    <tr>\n",
       "      <th>0</th>\n",
       "      <td>c0f722661</td>\n",
       "      <td>NaN</td>\n",
       "      <td>NaN</td>\n",
       "      <td>My hope lay in Jack's promise that he would keep a bright light burning in the upper story to guide me on my course. On a clear night this light w...</td>\n",
       "    </tr>\n",
       "    <tr>\n",
       "      <th>1</th>\n",
       "      <td>f0953f0a5</td>\n",
       "      <td>NaN</td>\n",
       "      <td>NaN</td>\n",
       "      <td>Dotty continued to go to Mrs. Gray's every night with the milk. Sometimes Katie went with her, and then they always paused a while under the acorn...</td>\n",
       "    </tr>\n",
       "    <tr>\n",
       "      <th>2</th>\n",
       "      <td>0df072751</td>\n",
       "      <td>NaN</td>\n",
       "      <td>NaN</td>\n",
       "      <td>It was a bright and cheerful scene that greeted the eyes of Captain Raymond and his son as they entered the parlor of the adjacent cottage.\\nIt wa...</td>\n",
       "    </tr>\n",
       "    <tr>\n",
       "      <th>3</th>\n",
       "      <td>04caf4e0c</td>\n",
       "      <td>https://en.wikipedia.org/wiki/Cell_division</td>\n",
       "      <td>CC BY-SA 3.0</td>\n",
       "      <td>Cell division is the process by which a parent cell divides into two or more daughter cells. Cell division usually occurs as part of a larger cell...</td>\n",
       "    </tr>\n",
       "    <tr>\n",
       "      <th>4</th>\n",
       "      <td>0e63f8bea</td>\n",
       "      <td>https://en.wikipedia.org/wiki/Debugging</td>\n",
       "      <td>CC BY-SA 3.0</td>\n",
       "      <td>Debugging is the process of finding and resolving of defects that prevent correct operation of computer software or a system. Debugging tends to b...</td>\n",
       "    </tr>\n",
       "  </tbody>\n",
       "</table>\n",
       "</div>"
      ],
      "text/plain": [
       "          id                                    url_legal       license  \\\n",
       "0  c0f722661                                          NaN           NaN   \n",
       "1  f0953f0a5                                          NaN           NaN   \n",
       "2  0df072751                                          NaN           NaN   \n",
       "3  04caf4e0c  https://en.wikipedia.org/wiki/Cell_division  CC BY-SA 3.0   \n",
       "4  0e63f8bea      https://en.wikipedia.org/wiki/Debugging  CC BY-SA 3.0   \n",
       "\n",
       "                                                                                                                                                 excerpt  \n",
       "0  My hope lay in Jack's promise that he would keep a bright light burning in the upper story to guide me on my course. On a clear night this light w...  \n",
       "1  Dotty continued to go to Mrs. Gray's every night with the milk. Sometimes Katie went with her, and then they always paused a while under the acorn...  \n",
       "2  It was a bright and cheerful scene that greeted the eyes of Captain Raymond and his son as they entered the parlor of the adjacent cottage.\\nIt wa...  \n",
       "3  Cell division is the process by which a parent cell divides into two or more daughter cells. Cell division usually occurs as part of a larger cell...  \n",
       "4  Debugging is the process of finding and resolving of defects that prevent correct operation of computer software or a system. Debugging tends to b...  "
      ]
     },
     "metadata": {},
     "output_type": "display_data"
    }
   ],
   "source": [
    "base_path = '/kaggle/input/'\n",
    "test_filepath = base_path + 'commonlitreadabilityprize/test.csv'\n",
    "test = pd.read_csv(test_filepath)\n",
    "print(f'Test samples: {len(test)}')\n",
    "display(test.head())"
   ]
  },
  {
   "cell_type": "markdown",
   "id": "residential-measurement",
   "metadata": {
    "papermill": {
     "duration": 0.010811,
     "end_time": "2021-05-20T23:04:02.523722",
     "exception": false,
     "start_time": "2021-05-20T23:04:02.512911",
     "status": "completed"
    },
    "tags": []
   },
   "source": [
    "# Model parameters"
   ]
  },
  {
   "cell_type": "code",
   "execution_count": 4,
   "id": "everyday-nightmare",
   "metadata": {
    "_kg_hide-input": true,
    "execution": {
     "iopub.execute_input": "2021-05-20T23:04:02.550503Z",
     "iopub.status.busy": "2021-05-20T23:04:02.549998Z",
     "iopub.status.idle": "2021-05-20T23:04:02.559792Z",
     "shell.execute_reply": "2021-05-20T23:04:02.559394Z",
     "shell.execute_reply.started": "2021-05-20T23:03:08.117953Z"
    },
    "papermill": {
     "duration": 0.025176,
     "end_time": "2021-05-20T23:04:02.559902",
     "exception": false,
     "start_time": "2021-05-20T23:04:02.534726",
     "status": "completed"
    },
    "tags": []
   },
   "outputs": [
    {
     "data": {
      "text/plain": [
       "{'BATCH_SIZE': 64,\n",
       " 'LEARNING_RATE': 8e-05,\n",
       " 'EPOCHS': 100,\n",
       " 'ES_PATIENCE': 30,\n",
       " 'N_FOLDS': 5,\n",
       " 'N_USED_FOLDS': 1,\n",
       " 'SEQ_LEN': 256,\n",
       " 'BASE_MODEL': '/kaggle/input/huggingface-roberta/roberta-base/',\n",
       " 'SEED': 0}"
      ]
     },
     "execution_count": 4,
     "metadata": {},
     "output_type": "execute_result"
    }
   ],
   "source": [
    "input_noteboks = [x for x in os.listdir(base_path) if '-commonlit-' in x]\n",
    "input_base_path = f'{base_path}{input_noteboks[0]}/'\n",
    "with open(input_base_path + 'config.json') as json_file:\n",
    "    config = json.load(json_file)\n",
    "\n",
    "config"
   ]
  },
  {
   "cell_type": "markdown",
   "id": "incident-chair",
   "metadata": {
    "papermill": {
     "duration": 0.011136,
     "end_time": "2021-05-20T23:04:02.582502",
     "exception": false,
     "start_time": "2021-05-20T23:04:02.571366",
     "status": "completed"
    },
    "tags": []
   },
   "source": [
    "## Auxiliary functions"
   ]
  },
  {
   "cell_type": "code",
   "execution_count": 5,
   "id": "large-oxford",
   "metadata": {
    "_cell_guid": "79c7e3d0-c299-4dcb-8224-4455121ee9b0",
    "_kg_hide-input": true,
    "_uuid": "d629ff2d2480ee46fbb7e2d37f6b5fab8052498a",
    "execution": {
     "iopub.execute_input": "2021-05-20T23:04:02.616654Z",
     "iopub.status.busy": "2021-05-20T23:04:02.612969Z",
     "iopub.status.idle": "2021-05-20T23:04:02.619226Z",
     "shell.execute_reply": "2021-05-20T23:04:02.618691Z",
     "shell.execute_reply.started": "2021-05-20T23:03:08.135954Z"
    },
    "papermill": {
     "duration": 0.025511,
     "end_time": "2021-05-20T23:04:02.619339",
     "exception": false,
     "start_time": "2021-05-20T23:04:02.593828",
     "status": "completed"
    },
    "tags": []
   },
   "outputs": [],
   "source": [
    "# Datasets utility functions\n",
    "def custom_standardization(text, is_lower=True):\n",
    "    if is_lower:\n",
    "        text = text.lower() # if encoder is uncased\n",
    "    text = text.strip()\n",
    "    return text\n",
    "\n",
    "def sample_target(features, target):\n",
    "    mean, stddev = target\n",
    "    sampled_target = tf.random.normal([], mean=tf.cast(mean, dtype=tf.float32), \n",
    "                                      stddev=tf.cast(stddev, dtype=tf.float32), dtype=tf.float32)\n",
    "    return (features, sampled_target)\n",
    "\n",
    "def get_dataset(pandas_df, tokenizer, labeled=True, ordered=False, repeated=False, \n",
    "                is_sampled=False, batch_size=32, seq_len=128, is_lower=True):\n",
    "    \"\"\"\n",
    "        Return a Tensorflow dataset ready for training or inference.\n",
    "    \"\"\"\n",
    "    text = [custom_standardization(text, is_lower) for text in pandas_df['excerpt']]\n",
    "    \n",
    "    # Tokenize inputs\n",
    "    tokenized_inputs = tokenizer(text, max_length=seq_len, truncation=True, \n",
    "                                 padding='max_length', return_tensors='tf')\n",
    "    \n",
    "    if labeled:\n",
    "        dataset = tf.data.Dataset.from_tensor_slices(({'input_ids': tokenized_inputs['input_ids'], \n",
    "                                                       'attention_mask': tokenized_inputs['attention_mask']}, \n",
    "                                                      (pandas_df['target'], pandas_df['standard_error'])))\n",
    "        if is_sampled:\n",
    "            dataset = dataset.map(sample_target, num_parallel_calls=tf.data.AUTOTUNE)\n",
    "    else:\n",
    "        dataset = tf.data.Dataset.from_tensor_slices({'input_ids': tokenized_inputs['input_ids'], \n",
    "                                                      'attention_mask': tokenized_inputs['attention_mask']})\n",
    "        \n",
    "    if repeated:\n",
    "        dataset = dataset.repeat()\n",
    "    if not ordered:\n",
    "        dataset = dataset.shuffle(2048)\n",
    "    dataset = dataset.batch(batch_size)\n",
    "    dataset = dataset.cache()\n",
    "    dataset = dataset.prefetch(tf.data.AUTOTUNE)\n",
    "    return dataset"
   ]
  },
  {
   "cell_type": "code",
   "execution_count": 6,
   "id": "reported-defense",
   "metadata": {
    "_kg_hide-input": true,
    "execution": {
     "iopub.execute_input": "2021-05-20T23:04:02.645525Z",
     "iopub.status.busy": "2021-05-20T23:04:02.645034Z",
     "iopub.status.idle": "2021-05-20T23:04:02.652887Z",
     "shell.execute_reply": "2021-05-20T23:04:02.653295Z",
     "shell.execute_reply.started": "2021-05-20T23:03:08.149422Z"
    },
    "papermill": {
     "duration": 0.022712,
     "end_time": "2021-05-20T23:04:02.653431",
     "exception": false,
     "start_time": "2021-05-20T23:04:02.630719",
     "status": "completed"
    },
    "tags": []
   },
   "outputs": [
    {
     "name": "stdout",
     "output_type": "stream",
     "text": [
      "Models to predict:\n",
      "/kaggle/input/31-commonlit-roberta-base-2-tar-2x-stddev/model_0.h5\n"
     ]
    }
   ],
   "source": [
    "model_path_list = glob.glob(f'{input_base_path}*.h5')\n",
    "model_path_list.sort()\n",
    "\n",
    "print('Models to predict:')\n",
    "print(*model_path_list, sep='\\n')"
   ]
  },
  {
   "cell_type": "markdown",
   "id": "strategic-trail",
   "metadata": {
    "papermill": {
     "duration": 0.011405,
     "end_time": "2021-05-20T23:04:02.676472",
     "exception": false,
     "start_time": "2021-05-20T23:04:02.665067",
     "status": "completed"
    },
    "tags": []
   },
   "source": [
    "# Model"
   ]
  },
  {
   "cell_type": "code",
   "execution_count": 7,
   "id": "reduced-survivor",
   "metadata": {
    "_kg_hide-input": false,
    "_kg_hide-output": true,
    "execution": {
     "iopub.execute_input": "2021-05-20T23:04:02.707366Z",
     "iopub.status.busy": "2021-05-20T23:04:02.706701Z",
     "iopub.status.idle": "2021-05-20T23:04:22.981269Z",
     "shell.execute_reply": "2021-05-20T23:04:22.981814Z",
     "shell.execute_reply.started": "2021-05-20T23:03:08.169966Z"
    },
    "papermill": {
     "duration": 20.293896,
     "end_time": "2021-05-20T23:04:22.982030",
     "exception": false,
     "start_time": "2021-05-20T23:04:02.688134",
     "status": "completed"
    },
    "tags": []
   },
   "outputs": [
    {
     "name": "stderr",
     "output_type": "stream",
     "text": [
      "Some layers from the model checkpoint at /kaggle/input/huggingface-roberta/roberta-base/ were not used when initializing TFRobertaModel: ['lm_head']\n",
      "- This IS expected if you are initializing TFRobertaModel from the checkpoint of a model trained on another task or with another architecture (e.g. initializing a BertForSequenceClassification model from a BertForPreTraining model).\n",
      "- This IS NOT expected if you are initializing TFRobertaModel from the checkpoint of a model that you expect to be exactly identical (initializing a BertForSequenceClassification model from a BertForSequenceClassification model).\n",
      "All the layers of TFRobertaModel were initialized from the model checkpoint at /kaggle/input/huggingface-roberta/roberta-base/.\n",
      "If your task is similar to the task the model of the checkpoint was trained on, you can already use TFRobertaModel for predictions without further training.\n"
     ]
    },
    {
     "name": "stdout",
     "output_type": "stream",
     "text": [
      "Model: \"model\"\n",
      "__________________________________________________________________________________________________\n",
      "Layer (type)                    Output Shape         Param #     Connected to                     \n",
      "==================================================================================================\n",
      "attention_mask (InputLayer)     [(None, 256)]        0                                            \n",
      "__________________________________________________________________________________________________\n",
      "input_ids (InputLayer)          [(None, 256)]        0                                            \n",
      "__________________________________________________________________________________________________\n",
      "tf_roberta_model (TFRobertaMode TFBaseModelOutputWit 124645632   attention_mask[0][0]             \n",
      "                                                                 input_ids[0][0]                  \n",
      "__________________________________________________________________________________________________\n",
      "tf.__operators__.getitem (Slici (None, 768)          0           tf_roberta_model[0][0]           \n",
      "__________________________________________________________________________________________________\n",
      "output (Dense)                  (None, 1)            769         tf.__operators__.getitem[0][0]   \n",
      "__________________________________________________________________________________________________\n",
      "output_sample (Dense)           (None, 1)            769         tf.__operators__.getitem[0][0]   \n",
      "==================================================================================================\n",
      "Total params: 124,647,170\n",
      "Trainable params: 85,646,594\n",
      "Non-trainable params: 39,000,576\n",
      "__________________________________________________________________________________________________\n"
     ]
    }
   ],
   "source": [
    "def model_fn(encoder, seq_len=256):\n",
    "    input_ids = L.Input(shape=(seq_len,), dtype=tf.int32, name='input_ids')\n",
    "    input_attention_mask = L.Input(shape=(seq_len,), dtype=tf.int32, name='attention_mask')\n",
    "    \n",
    "    outputs = encoder({'input_ids': input_ids,  \n",
    "                       'attention_mask': input_attention_mask})\n",
    "    last_hidden_state = outputs['last_hidden_state']\n",
    "    \n",
    "    cls_token = last_hidden_state[:, 0, :]\n",
    "    output = L.Dense(1, name='output')(cls_token)\n",
    "    output_sample = L.Dense(1, name='output_sample')(cls_token)\n",
    "    \n",
    "    model = Model(inputs=[input_ids, input_attention_mask], \n",
    "                  outputs=[output, output_sample])\n",
    "    return model\n",
    "\n",
    "\n",
    "with strategy.scope():\n",
    "    encoder = TFAutoModel.from_pretrained(config['BASE_MODEL'])\n",
    "    # Freeze embeddings\n",
    "    encoder.layers[0].embeddings.trainable = False\n",
    "    model = model_fn(encoder, config['SEQ_LEN'])\n",
    "    \n",
    "model.summary()"
   ]
  },
  {
   "cell_type": "markdown",
   "id": "extra-interest",
   "metadata": {
    "papermill": {
     "duration": 0.012368,
     "end_time": "2021-05-20T23:04:23.007618",
     "exception": false,
     "start_time": "2021-05-20T23:04:22.995250",
     "status": "completed"
    },
    "tags": []
   },
   "source": [
    "# Test set predictions"
   ]
  },
  {
   "cell_type": "code",
   "execution_count": 8,
   "id": "communist-metadata",
   "metadata": {
    "_kg_hide-input": true,
    "_kg_hide-output": true,
    "execution": {
     "iopub.execute_input": "2021-05-20T23:04:23.038982Z",
     "iopub.status.busy": "2021-05-20T23:04:23.038341Z",
     "iopub.status.idle": "2021-05-20T23:04:32.036958Z",
     "shell.execute_reply": "2021-05-20T23:04:32.036457Z",
     "shell.execute_reply.started": "2021-05-20T23:03:28.499338Z"
    },
    "papermill": {
     "duration": 9.016862,
     "end_time": "2021-05-20T23:04:32.037096",
     "exception": false,
     "start_time": "2021-05-20T23:04:23.020234",
     "status": "completed"
    },
    "tags": []
   },
   "outputs": [
    {
     "name": "stdout",
     "output_type": "stream",
     "text": [
      "/kaggle/input/31-commonlit-roberta-base-2-tar-2x-stddev/model_0.h5\n"
     ]
    }
   ],
   "source": [
    "tokenizer = AutoTokenizer.from_pretrained(config['BASE_MODEL'])\n",
    "test_pred = []\n",
    "\n",
    "for model_path in model_path_list:\n",
    "    print(model_path)\n",
    "    if tpu: tf.tpu.experimental.initialize_tpu_system(tpu)\n",
    "    K.clear_session()\n",
    "    model.load_weights(model_path)\n",
    "\n",
    "    # Test predictions\n",
    "    test_ds = get_dataset(test, tokenizer, labeled=False, ordered=True, \n",
    "                          batch_size=config['BATCH_SIZE'], seq_len=config['SEQ_LEN'])\n",
    "    x_test = test_ds.map(lambda sample: sample)\n",
    "    test_pred.append(model.predict(x_test)[0])"
   ]
  },
  {
   "cell_type": "markdown",
   "id": "toxic-moldova",
   "metadata": {
    "papermill": {
     "duration": 0.013941,
     "end_time": "2021-05-20T23:04:32.065887",
     "exception": false,
     "start_time": "2021-05-20T23:04:32.051946",
     "status": "completed"
    },
    "tags": []
   },
   "source": [
    "# Test set predictions"
   ]
  },
  {
   "cell_type": "code",
   "execution_count": 9,
   "id": "organized-kernel",
   "metadata": {
    "_kg_hide-input": true,
    "execution": {
     "iopub.execute_input": "2021-05-20T23:04:32.103476Z",
     "iopub.status.busy": "2021-05-20T23:04:32.102607Z",
     "iopub.status.idle": "2021-05-20T23:04:32.239618Z",
     "shell.execute_reply": "2021-05-20T23:04:32.240182Z",
     "shell.execute_reply.started": "2021-05-20T23:03:37.552013Z"
    },
    "papermill": {
     "duration": 0.15979,
     "end_time": "2021-05-20T23:04:32.240347",
     "exception": false,
     "start_time": "2021-05-20T23:04:32.080557",
     "status": "completed"
    },
    "tags": []
   },
   "outputs": [
    {
     "data": {
      "text/html": [
       "<div>\n",
       "<style scoped>\n",
       "    .dataframe tbody tr th:only-of-type {\n",
       "        vertical-align: middle;\n",
       "    }\n",
       "\n",
       "    .dataframe tbody tr th {\n",
       "        vertical-align: top;\n",
       "    }\n",
       "\n",
       "    .dataframe thead th {\n",
       "        text-align: right;\n",
       "    }\n",
       "</style>\n",
       "<table border=\"1\" class=\"dataframe\">\n",
       "  <thead>\n",
       "    <tr style=\"text-align: right;\">\n",
       "      <th></th>\n",
       "      <th>id</th>\n",
       "      <th>target</th>\n",
       "    </tr>\n",
       "  </thead>\n",
       "  <tbody>\n",
       "    <tr>\n",
       "      <th>0</th>\n",
       "      <td>c0f722661</td>\n",
       "      <td>-0.741254</td>\n",
       "    </tr>\n",
       "    <tr>\n",
       "      <th>1</th>\n",
       "      <td>f0953f0a5</td>\n",
       "      <td>-0.387540</td>\n",
       "    </tr>\n",
       "    <tr>\n",
       "      <th>2</th>\n",
       "      <td>0df072751</td>\n",
       "      <td>-0.206937</td>\n",
       "    </tr>\n",
       "    <tr>\n",
       "      <th>3</th>\n",
       "      <td>04caf4e0c</td>\n",
       "      <td>-2.629438</td>\n",
       "    </tr>\n",
       "    <tr>\n",
       "      <th>4</th>\n",
       "      <td>0e63f8bea</td>\n",
       "      <td>-2.397638</td>\n",
       "    </tr>\n",
       "    <tr>\n",
       "      <th>5</th>\n",
       "      <td>12537fe78</td>\n",
       "      <td>-1.602667</td>\n",
       "    </tr>\n",
       "    <tr>\n",
       "      <th>6</th>\n",
       "      <td>965e592c0</td>\n",
       "      <td>0.449577</td>\n",
       "    </tr>\n",
       "  </tbody>\n",
       "</table>\n",
       "</div>"
      ],
      "text/plain": [
       "          id    target\n",
       "0  c0f722661 -0.741254\n",
       "1  f0953f0a5 -0.387540\n",
       "2  0df072751 -0.206937\n",
       "3  04caf4e0c -2.629438\n",
       "4  0e63f8bea -2.397638\n",
       "5  12537fe78 -1.602667\n",
       "6  965e592c0  0.449577"
      ]
     },
     "metadata": {},
     "output_type": "display_data"
    }
   ],
   "source": [
    "submission = test[['id']]\n",
    "submission['target'] = np.mean(test_pred, axis=0)\n",
    "submission.to_csv('submission.csv', index=False)\n",
    "display(submission.head(10))"
   ]
  }
 ],
 "metadata": {
  "kernelspec": {
   "display_name": "Python 3",
   "language": "python",
   "name": "python3"
  },
  "language_info": {
   "codemirror_mode": {
    "name": "ipython",
    "version": 3
   },
   "file_extension": ".py",
   "mimetype": "text/x-python",
   "name": "python",
   "nbconvert_exporter": "python",
   "pygments_lexer": "ipython3",
   "version": "3.7.10"
  },
  "papermill": {
   "default_parameters": {},
   "duration": 46.697476,
   "end_time": "2021-05-20T23:04:34.710293",
   "environment_variables": {},
   "exception": null,
   "input_path": "__notebook__.ipynb",
   "output_path": "__notebook__.ipynb",
   "parameters": {},
   "start_time": "2021-05-20T23:03:48.012817",
   "version": "2.3.3"
  }
 },
 "nbformat": 4,
 "nbformat_minor": 5
}
