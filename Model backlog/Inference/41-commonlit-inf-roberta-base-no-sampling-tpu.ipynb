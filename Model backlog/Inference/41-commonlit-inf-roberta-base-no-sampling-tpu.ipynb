{
 "cells": [
  {
   "cell_type": "markdown",
   "id": "normal-reason",
   "metadata": {
    "papermill": {
     "duration": 0.011157,
     "end_time": "2021-05-22T23:26:32.042903",
     "exception": false,
     "start_time": "2021-05-22T23:26:32.031746",
     "status": "completed"
    },
    "tags": []
   },
   "source": [
    "## Dependencies"
   ]
  },
  {
   "cell_type": "code",
   "execution_count": 1,
   "id": "massive-spread",
   "metadata": {
    "_cell_guid": "b1076dfc-b9ad-4769-8c92-a6c4dae69d19",
    "_kg_hide-input": true,
    "_kg_hide-output": true,
    "_uuid": "8f2839f25d086af736a60e9eeb907d3b93b6e0e5",
    "execution": {
     "iopub.execute_input": "2021-05-22T23:26:32.068219Z",
     "iopub.status.busy": "2021-05-22T23:26:32.066681Z",
     "iopub.status.idle": "2021-05-22T23:26:39.344070Z",
     "shell.execute_reply": "2021-05-22T23:26:39.343076Z",
     "shell.execute_reply.started": "2021-05-22T23:25:31.275729Z"
    },
    "papermill": {
     "duration": 7.291169,
     "end_time": "2021-05-22T23:26:39.344235",
     "exception": false,
     "start_time": "2021-05-22T23:26:32.053066",
     "status": "completed"
    },
    "tags": []
   },
   "outputs": [],
   "source": [
    "import warnings, math, json, glob\n",
    "import pandas as pd\n",
    "import tensorflow.keras.layers as L\n",
    "import tensorflow.keras.backend as K\n",
    "from tensorflow.keras import Model\n",
    "from transformers import TFAutoModelForSequenceClassification, TFAutoModel, AutoTokenizer\n",
    "from commonlit_scripts import *\n",
    "\n",
    "\n",
    "seed = 0\n",
    "seed_everything(seed)\n",
    "warnings.filterwarnings('ignore')\n",
    "pd.set_option('display.max_colwidth', 150)"
   ]
  },
  {
   "cell_type": "markdown",
   "id": "dedicated-planet",
   "metadata": {
    "papermill": {
     "duration": 0.010152,
     "end_time": "2021-05-22T23:26:39.364744",
     "exception": false,
     "start_time": "2021-05-22T23:26:39.354592",
     "status": "completed"
    },
    "tags": []
   },
   "source": [
    "### Hardware configuration"
   ]
  },
  {
   "cell_type": "code",
   "execution_count": 2,
   "id": "closing-defense",
   "metadata": {
    "_kg_hide-input": true,
    "_kg_hide-output": false,
    "execution": {
     "iopub.execute_input": "2021-05-22T23:26:39.389461Z",
     "iopub.status.busy": "2021-05-22T23:26:39.388821Z",
     "iopub.status.idle": "2021-05-22T23:26:39.398241Z",
     "shell.execute_reply": "2021-05-22T23:26:39.398616Z",
     "shell.execute_reply.started": "2021-05-22T23:25:38.403356Z"
    },
    "papermill": {
     "duration": 0.023674,
     "end_time": "2021-05-22T23:26:39.398788",
     "exception": false,
     "start_time": "2021-05-22T23:26:39.375114",
     "status": "completed"
    },
    "tags": []
   },
   "outputs": [
    {
     "name": "stdout",
     "output_type": "stream",
     "text": [
      "REPLICAS: 1\n"
     ]
    }
   ],
   "source": [
    "strategy, tpu = get_strategy()\n",
    "AUTO = tf.data.AUTOTUNE\n",
    "REPLICAS = strategy.num_replicas_in_sync\n",
    "print(f'REPLICAS: {REPLICAS}')"
   ]
  },
  {
   "cell_type": "markdown",
   "id": "plain-optimum",
   "metadata": {
    "papermill": {
     "duration": 0.010137,
     "end_time": "2021-05-22T23:26:39.419685",
     "exception": false,
     "start_time": "2021-05-22T23:26:39.409548",
     "status": "completed"
    },
    "tags": []
   },
   "source": [
    "# Load data"
   ]
  },
  {
   "cell_type": "code",
   "execution_count": 3,
   "id": "descending-journalist",
   "metadata": {
    "_kg_hide-input": true,
    "execution": {
     "iopub.execute_input": "2021-05-22T23:26:39.446423Z",
     "iopub.status.busy": "2021-05-22T23:26:39.445920Z",
     "iopub.status.idle": "2021-05-22T23:26:39.475068Z",
     "shell.execute_reply": "2021-05-22T23:26:39.474373Z",
     "shell.execute_reply.started": "2021-05-22T23:25:38.415218Z"
    },
    "papermill": {
     "duration": 0.045303,
     "end_time": "2021-05-22T23:26:39.475210",
     "exception": false,
     "start_time": "2021-05-22T23:26:39.429907",
     "status": "completed"
    },
    "tags": []
   },
   "outputs": [
    {
     "name": "stdout",
     "output_type": "stream",
     "text": [
      "Test samples: 7\n"
     ]
    },
    {
     "data": {
      "text/html": [
       "<div>\n",
       "<style scoped>\n",
       "    .dataframe tbody tr th:only-of-type {\n",
       "        vertical-align: middle;\n",
       "    }\n",
       "\n",
       "    .dataframe tbody tr th {\n",
       "        vertical-align: top;\n",
       "    }\n",
       "\n",
       "    .dataframe thead th {\n",
       "        text-align: right;\n",
       "    }\n",
       "</style>\n",
       "<table border=\"1\" class=\"dataframe\">\n",
       "  <thead>\n",
       "    <tr style=\"text-align: right;\">\n",
       "      <th></th>\n",
       "      <th>id</th>\n",
       "      <th>url_legal</th>\n",
       "      <th>license</th>\n",
       "      <th>excerpt</th>\n",
       "    </tr>\n",
       "  </thead>\n",
       "  <tbody>\n",
       "    <tr>\n",
       "      <th>0</th>\n",
       "      <td>c0f722661</td>\n",
       "      <td>NaN</td>\n",
       "      <td>NaN</td>\n",
       "      <td>My hope lay in Jack's promise that he would keep a bright light burning in the upper story to guide me on my course. On a clear night this light w...</td>\n",
       "    </tr>\n",
       "    <tr>\n",
       "      <th>1</th>\n",
       "      <td>f0953f0a5</td>\n",
       "      <td>NaN</td>\n",
       "      <td>NaN</td>\n",
       "      <td>Dotty continued to go to Mrs. Gray's every night with the milk. Sometimes Katie went with her, and then they always paused a while under the acorn...</td>\n",
       "    </tr>\n",
       "    <tr>\n",
       "      <th>2</th>\n",
       "      <td>0df072751</td>\n",
       "      <td>NaN</td>\n",
       "      <td>NaN</td>\n",
       "      <td>It was a bright and cheerful scene that greeted the eyes of Captain Raymond and his son as they entered the parlor of the adjacent cottage.\\nIt wa...</td>\n",
       "    </tr>\n",
       "    <tr>\n",
       "      <th>3</th>\n",
       "      <td>04caf4e0c</td>\n",
       "      <td>https://en.wikipedia.org/wiki/Cell_division</td>\n",
       "      <td>CC BY-SA 3.0</td>\n",
       "      <td>Cell division is the process by which a parent cell divides into two or more daughter cells. Cell division usually occurs as part of a larger cell...</td>\n",
       "    </tr>\n",
       "    <tr>\n",
       "      <th>4</th>\n",
       "      <td>0e63f8bea</td>\n",
       "      <td>https://en.wikipedia.org/wiki/Debugging</td>\n",
       "      <td>CC BY-SA 3.0</td>\n",
       "      <td>Debugging is the process of finding and resolving of defects that prevent correct operation of computer software or a system. Debugging tends to b...</td>\n",
       "    </tr>\n",
       "  </tbody>\n",
       "</table>\n",
       "</div>"
      ],
      "text/plain": [
       "          id                                    url_legal       license  \\\n",
       "0  c0f722661                                          NaN           NaN   \n",
       "1  f0953f0a5                                          NaN           NaN   \n",
       "2  0df072751                                          NaN           NaN   \n",
       "3  04caf4e0c  https://en.wikipedia.org/wiki/Cell_division  CC BY-SA 3.0   \n",
       "4  0e63f8bea      https://en.wikipedia.org/wiki/Debugging  CC BY-SA 3.0   \n",
       "\n",
       "                                                                                                                                                 excerpt  \n",
       "0  My hope lay in Jack's promise that he would keep a bright light burning in the upper story to guide me on my course. On a clear night this light w...  \n",
       "1  Dotty continued to go to Mrs. Gray's every night with the milk. Sometimes Katie went with her, and then they always paused a while under the acorn...  \n",
       "2  It was a bright and cheerful scene that greeted the eyes of Captain Raymond and his son as they entered the parlor of the adjacent cottage.\\nIt wa...  \n",
       "3  Cell division is the process by which a parent cell divides into two or more daughter cells. Cell division usually occurs as part of a larger cell...  \n",
       "4  Debugging is the process of finding and resolving of defects that prevent correct operation of computer software or a system. Debugging tends to b...  "
      ]
     },
     "metadata": {},
     "output_type": "display_data"
    }
   ],
   "source": [
    "base_path = '/kaggle/input/'\n",
    "test_filepath = base_path + 'commonlitreadabilityprize/test.csv'\n",
    "test = pd.read_csv(test_filepath)\n",
    "print(f'Test samples: {len(test)}')\n",
    "display(test.head())"
   ]
  },
  {
   "cell_type": "markdown",
   "id": "aging-divorce",
   "metadata": {
    "papermill": {
     "duration": 0.011064,
     "end_time": "2021-05-22T23:26:39.497878",
     "exception": false,
     "start_time": "2021-05-22T23:26:39.486814",
     "status": "completed"
    },
    "tags": []
   },
   "source": [
    "# Model parameters"
   ]
  },
  {
   "cell_type": "code",
   "execution_count": 4,
   "id": "unlikely-tunisia",
   "metadata": {
    "_kg_hide-input": true,
    "execution": {
     "iopub.execute_input": "2021-05-22T23:26:39.524930Z",
     "iopub.status.busy": "2021-05-22T23:26:39.524388Z",
     "iopub.status.idle": "2021-05-22T23:26:39.534428Z",
     "shell.execute_reply": "2021-05-22T23:26:39.533994Z",
     "shell.execute_reply.started": "2021-05-22T23:25:38.452677Z"
    },
    "papermill": {
     "duration": 0.025318,
     "end_time": "2021-05-22T23:26:39.534535",
     "exception": false,
     "start_time": "2021-05-22T23:26:39.509217",
     "status": "completed"
    },
    "tags": []
   },
   "outputs": [
    {
     "data": {
      "text/plain": [
       "{'BATCH_SIZE': 64,\n",
       " 'LEARNING_RATE': 8e-05,\n",
       " 'EPOCHS': 100,\n",
       " 'ES_PATIENCE': 30,\n",
       " 'N_FOLDS': 5,\n",
       " 'N_USED_FOLDS': 1,\n",
       " 'SEQ_LEN': 256,\n",
       " 'BASE_MODEL': '/kaggle/input/huggingface-roberta/roberta-base/',\n",
       " 'SEED': 0}"
      ]
     },
     "execution_count": 4,
     "metadata": {},
     "output_type": "execute_result"
    }
   ],
   "source": [
    "input_noteboks = [x for x in os.listdir(base_path) if '-commonlit-' in x]\n",
    "input_base_path = f'{base_path}{input_noteboks[0]}/'\n",
    "with open(input_base_path + 'config.json') as json_file:\n",
    "    config = json.load(json_file)\n",
    "\n",
    "config"
   ]
  },
  {
   "cell_type": "markdown",
   "id": "white-slovakia",
   "metadata": {
    "papermill": {
     "duration": 0.011072,
     "end_time": "2021-05-22T23:26:39.557213",
     "exception": false,
     "start_time": "2021-05-22T23:26:39.546141",
     "status": "completed"
    },
    "tags": []
   },
   "source": [
    "## Auxiliary functions"
   ]
  },
  {
   "cell_type": "code",
   "execution_count": 5,
   "id": "fallen-sense",
   "metadata": {
    "_cell_guid": "79c7e3d0-c299-4dcb-8224-4455121ee9b0",
    "_kg_hide-input": true,
    "_uuid": "d629ff2d2480ee46fbb7e2d37f6b5fab8052498a",
    "execution": {
     "iopub.execute_input": "2021-05-22T23:26:39.589064Z",
     "iopub.status.busy": "2021-05-22T23:26:39.588338Z",
     "iopub.status.idle": "2021-05-22T23:26:39.591035Z",
     "shell.execute_reply": "2021-05-22T23:26:39.590618Z",
     "shell.execute_reply.started": "2021-05-22T23:25:38.468087Z"
    },
    "papermill": {
     "duration": 0.022448,
     "end_time": "2021-05-22T23:26:39.591143",
     "exception": false,
     "start_time": "2021-05-22T23:26:39.568695",
     "status": "completed"
    },
    "tags": []
   },
   "outputs": [],
   "source": [
    "# Datasets utility functions\n",
    "def custom_standardization(text, is_lower=True):\n",
    "    if is_lower:\n",
    "        text = text.lower() # if encoder is uncased\n",
    "    text = text.strip()\n",
    "    return text\n",
    "\n",
    "def get_dataset(pandas_df, tokenizer, labeled=True, ordered=False, repeated=False, \n",
    "                is_sampled=False, batch_size=32, seq_len=128, is_lower=True):\n",
    "    \"\"\"\n",
    "        Return a Tensorflow dataset ready for training or inference.\n",
    "    \"\"\"\n",
    "    text = [custom_standardization(text, is_lower) for text in pandas_df['excerpt']]\n",
    "    \n",
    "    # Tokenize inputs\n",
    "    tokenized_inputs = tokenizer(text, max_length=seq_len, truncation=True, \n",
    "                                 padding='max_length', return_tensors='tf')\n",
    "    \n",
    "    if labeled:\n",
    "        dataset = tf.data.Dataset.from_tensor_slices(({'input_ids': tokenized_inputs['input_ids'], \n",
    "                                                       'attention_mask': tokenized_inputs['attention_mask']}, \n",
    "                                                      (pandas_df['target'], pandas_df['standard_error'])))\n",
    "    else:\n",
    "        dataset = tf.data.Dataset.from_tensor_slices({'input_ids': tokenized_inputs['input_ids'], \n",
    "                                                      'attention_mask': tokenized_inputs['attention_mask']})\n",
    "        \n",
    "    if repeated:\n",
    "        dataset = dataset.repeat()\n",
    "    if not ordered:\n",
    "        dataset = dataset.shuffle(2048)\n",
    "    dataset = dataset.batch(batch_size)\n",
    "    dataset = dataset.cache()\n",
    "    dataset = dataset.prefetch(tf.data.AUTOTUNE)\n",
    "    return dataset"
   ]
  },
  {
   "cell_type": "code",
   "execution_count": 6,
   "id": "pregnant-delicious",
   "metadata": {
    "_kg_hide-input": true,
    "execution": {
     "iopub.execute_input": "2021-05-22T23:26:39.616885Z",
     "iopub.status.busy": "2021-05-22T23:26:39.616374Z",
     "iopub.status.idle": "2021-05-22T23:26:39.627571Z",
     "shell.execute_reply": "2021-05-22T23:26:39.628244Z",
     "shell.execute_reply.started": "2021-05-22T23:25:38.479102Z"
    },
    "papermill": {
     "duration": 0.026085,
     "end_time": "2021-05-22T23:26:39.628412",
     "exception": false,
     "start_time": "2021-05-22T23:26:39.602327",
     "status": "completed"
    },
    "tags": []
   },
   "outputs": [
    {
     "name": "stdout",
     "output_type": "stream",
     "text": [
      "Models to predict:\n",
      "/kaggle/input/41-commonlit-roberta-base-no-sampling-tpu/model_0.h5\n"
     ]
    }
   ],
   "source": [
    "model_path_list = glob.glob(f'{input_base_path}*.h5')\n",
    "model_path_list.sort()\n",
    "\n",
    "print('Models to predict:')\n",
    "print(*model_path_list, sep='\\n')"
   ]
  },
  {
   "cell_type": "markdown",
   "id": "brutal-revision",
   "metadata": {
    "papermill": {
     "duration": 0.011492,
     "end_time": "2021-05-22T23:26:39.651836",
     "exception": false,
     "start_time": "2021-05-22T23:26:39.640344",
     "status": "completed"
    },
    "tags": []
   },
   "source": [
    "# Model"
   ]
  },
  {
   "cell_type": "code",
   "execution_count": 7,
   "id": "moving-subscription",
   "metadata": {
    "_kg_hide-input": false,
    "_kg_hide-output": true,
    "execution": {
     "iopub.execute_input": "2021-05-22T23:26:39.681487Z",
     "iopub.status.busy": "2021-05-22T23:26:39.680924Z",
     "iopub.status.idle": "2021-05-22T23:26:58.890159Z",
     "shell.execute_reply": "2021-05-22T23:26:58.890734Z",
     "shell.execute_reply.started": "2021-05-22T23:25:38.497841Z"
    },
    "papermill": {
     "duration": 19.227777,
     "end_time": "2021-05-22T23:26:58.890941",
     "exception": false,
     "start_time": "2021-05-22T23:26:39.663164",
     "status": "completed"
    },
    "tags": []
   },
   "outputs": [
    {
     "name": "stderr",
     "output_type": "stream",
     "text": [
      "Some layers from the model checkpoint at /kaggle/input/huggingface-roberta/roberta-base/ were not used when initializing TFRobertaModel: ['lm_head']\n",
      "- This IS expected if you are initializing TFRobertaModel from the checkpoint of a model trained on another task or with another architecture (e.g. initializing a BertForSequenceClassification model from a BertForPreTraining model).\n",
      "- This IS NOT expected if you are initializing TFRobertaModel from the checkpoint of a model that you expect to be exactly identical (initializing a BertForSequenceClassification model from a BertForSequenceClassification model).\n",
      "All the layers of TFRobertaModel were initialized from the model checkpoint at /kaggle/input/huggingface-roberta/roberta-base/.\n",
      "If your task is similar to the task the model of the checkpoint was trained on, you can already use TFRobertaModel for predictions without further training.\n"
     ]
    },
    {
     "name": "stdout",
     "output_type": "stream",
     "text": [
      "Model: \"model\"\n",
      "__________________________________________________________________________________________________\n",
      "Layer (type)                    Output Shape         Param #     Connected to                     \n",
      "==================================================================================================\n",
      "attention_mask (InputLayer)     [(None, 256)]        0                                            \n",
      "__________________________________________________________________________________________________\n",
      "input_ids (InputLayer)          [(None, 256)]        0                                            \n",
      "__________________________________________________________________________________________________\n",
      "tf_roberta_model (TFRobertaMode TFBaseModelOutputWit 124645632   attention_mask[0][0]             \n",
      "                                                                 input_ids[0][0]                  \n",
      "__________________________________________________________________________________________________\n",
      "tf.__operators__.getitem (Slici (None, 768)          0           tf_roberta_model[0][0]           \n",
      "__________________________________________________________________________________________________\n",
      "output (Dense)                  (None, 1)            769         tf.__operators__.getitem[0][0]   \n",
      "==================================================================================================\n",
      "Total params: 124,646,401\n",
      "Trainable params: 85,645,825\n",
      "Non-trainable params: 39,000,576\n",
      "__________________________________________________________________________________________________\n"
     ]
    }
   ],
   "source": [
    "def model_fn(encoder, seq_len=256):\n",
    "    input_ids = L.Input(shape=(seq_len,), dtype=tf.int32, name='input_ids')\n",
    "    input_attention_mask = L.Input(shape=(seq_len,), dtype=tf.int32, name='attention_mask')\n",
    "    \n",
    "    outputs = encoder({'input_ids': input_ids,  \n",
    "                       'attention_mask': input_attention_mask})\n",
    "    last_hidden_state = outputs['last_hidden_state']\n",
    "    \n",
    "    cls_token = last_hidden_state[:, 0, :]\n",
    "    \n",
    "    output = L.Dense(1, name='output')(cls_token)\n",
    "    \n",
    "    model = Model(inputs=[input_ids, input_attention_mask], \n",
    "                  outputs=[output])\n",
    "    return model\n",
    "\n",
    "\n",
    "with strategy.scope():\n",
    "    encoder = TFAutoModel.from_pretrained(config['BASE_MODEL'])\n",
    "    # Freeze embeddings\n",
    "    encoder.layers[0].embeddings.trainable = False\n",
    "    model = model_fn(encoder, config['SEQ_LEN'])\n",
    "    \n",
    "model.summary()"
   ]
  },
  {
   "cell_type": "markdown",
   "id": "convenient-market",
   "metadata": {
    "papermill": {
     "duration": 0.012554,
     "end_time": "2021-05-22T23:26:58.916908",
     "exception": false,
     "start_time": "2021-05-22T23:26:58.904354",
     "status": "completed"
    },
    "tags": []
   },
   "source": [
    "# Test set predictions"
   ]
  },
  {
   "cell_type": "code",
   "execution_count": 8,
   "id": "advised-romania",
   "metadata": {
    "_kg_hide-input": true,
    "_kg_hide-output": true,
    "execution": {
     "iopub.execute_input": "2021-05-22T23:26:58.947530Z",
     "iopub.status.busy": "2021-05-22T23:26:58.947013Z",
     "iopub.status.idle": "2021-05-22T23:27:07.241269Z",
     "shell.execute_reply": "2021-05-22T23:27:07.240797Z",
     "shell.execute_reply.started": "2021-05-22T23:25:57.866726Z"
    },
    "papermill": {
     "duration": 8.312219,
     "end_time": "2021-05-22T23:27:07.241401",
     "exception": false,
     "start_time": "2021-05-22T23:26:58.929182",
     "status": "completed"
    },
    "tags": []
   },
   "outputs": [
    {
     "name": "stdout",
     "output_type": "stream",
     "text": [
      "/kaggle/input/41-commonlit-roberta-base-no-sampling-tpu/model_0.h5\n"
     ]
    }
   ],
   "source": [
    "tokenizer = AutoTokenizer.from_pretrained(config['BASE_MODEL'])\n",
    "test_pred = []\n",
    "\n",
    "for model_path in model_path_list:\n",
    "    print(model_path)\n",
    "    if tpu: tf.tpu.experimental.initialize_tpu_system(tpu)\n",
    "    K.clear_session()\n",
    "    model.load_weights(model_path)\n",
    "\n",
    "    # Test predictions\n",
    "    test_ds = get_dataset(test, tokenizer, labeled=False, ordered=True, \n",
    "                          batch_size=config['BATCH_SIZE'], seq_len=config['SEQ_LEN'])\n",
    "    x_test = test_ds.map(lambda sample: sample)\n",
    "    test_pred.append(model.predict(x_test))"
   ]
  },
  {
   "cell_type": "markdown",
   "id": "fancy-seminar",
   "metadata": {
    "papermill": {
     "duration": 0.01242,
     "end_time": "2021-05-22T23:27:07.266900",
     "exception": false,
     "start_time": "2021-05-22T23:27:07.254480",
     "status": "completed"
    },
    "tags": []
   },
   "source": [
    "# Test set predictions"
   ]
  },
  {
   "cell_type": "code",
   "execution_count": 9,
   "id": "cheap-account",
   "metadata": {
    "_kg_hide-input": true,
    "execution": {
     "iopub.execute_input": "2021-05-22T23:27:07.298851Z",
     "iopub.status.busy": "2021-05-22T23:27:07.298265Z",
     "iopub.status.idle": "2021-05-22T23:27:07.425876Z",
     "shell.execute_reply": "2021-05-22T23:27:07.426316Z",
     "shell.execute_reply.started": "2021-05-22T23:26:06.701157Z"
    },
    "papermill": {
     "duration": 0.146886,
     "end_time": "2021-05-22T23:27:07.426456",
     "exception": false,
     "start_time": "2021-05-22T23:27:07.279570",
     "status": "completed"
    },
    "tags": []
   },
   "outputs": [
    {
     "data": {
      "text/html": [
       "<div>\n",
       "<style scoped>\n",
       "    .dataframe tbody tr th:only-of-type {\n",
       "        vertical-align: middle;\n",
       "    }\n",
       "\n",
       "    .dataframe tbody tr th {\n",
       "        vertical-align: top;\n",
       "    }\n",
       "\n",
       "    .dataframe thead th {\n",
       "        text-align: right;\n",
       "    }\n",
       "</style>\n",
       "<table border=\"1\" class=\"dataframe\">\n",
       "  <thead>\n",
       "    <tr style=\"text-align: right;\">\n",
       "      <th></th>\n",
       "      <th>id</th>\n",
       "      <th>target</th>\n",
       "    </tr>\n",
       "  </thead>\n",
       "  <tbody>\n",
       "    <tr>\n",
       "      <th>0</th>\n",
       "      <td>c0f722661</td>\n",
       "      <td>-0.442174</td>\n",
       "    </tr>\n",
       "    <tr>\n",
       "      <th>1</th>\n",
       "      <td>f0953f0a5</td>\n",
       "      <td>0.099339</td>\n",
       "    </tr>\n",
       "    <tr>\n",
       "      <th>2</th>\n",
       "      <td>0df072751</td>\n",
       "      <td>-0.344369</td>\n",
       "    </tr>\n",
       "    <tr>\n",
       "      <th>3</th>\n",
       "      <td>04caf4e0c</td>\n",
       "      <td>-2.623175</td>\n",
       "    </tr>\n",
       "    <tr>\n",
       "      <th>4</th>\n",
       "      <td>0e63f8bea</td>\n",
       "      <td>-1.729919</td>\n",
       "    </tr>\n",
       "    <tr>\n",
       "      <th>5</th>\n",
       "      <td>12537fe78</td>\n",
       "      <td>-1.278383</td>\n",
       "    </tr>\n",
       "    <tr>\n",
       "      <th>6</th>\n",
       "      <td>965e592c0</td>\n",
       "      <td>0.792138</td>\n",
       "    </tr>\n",
       "  </tbody>\n",
       "</table>\n",
       "</div>"
      ],
      "text/plain": [
       "          id    target\n",
       "0  c0f722661 -0.442174\n",
       "1  f0953f0a5  0.099339\n",
       "2  0df072751 -0.344369\n",
       "3  04caf4e0c -2.623175\n",
       "4  0e63f8bea -1.729919\n",
       "5  12537fe78 -1.278383\n",
       "6  965e592c0  0.792138"
      ]
     },
     "metadata": {},
     "output_type": "display_data"
    }
   ],
   "source": [
    "submission = test[['id']]\n",
    "submission['target'] = np.mean(test_pred, axis=0)\n",
    "submission.to_csv('submission.csv', index=False)\n",
    "display(submission.head(10))"
   ]
  }
 ],
 "metadata": {
  "kernelspec": {
   "display_name": "Python 3",
   "language": "python",
   "name": "python3"
  },
  "language_info": {
   "codemirror_mode": {
    "name": "ipython",
    "version": 3
   },
   "file_extension": ".py",
   "mimetype": "text/x-python",
   "name": "python",
   "nbconvert_exporter": "python",
   "pygments_lexer": "ipython3",
   "version": "3.7.10"
  },
  "papermill": {
   "default_parameters": {},
   "duration": 44.66988,
   "end_time": "2021-05-22T23:27:10.124827",
   "environment_variables": {},
   "exception": null,
   "input_path": "__notebook__.ipynb",
   "output_path": "__notebook__.ipynb",
   "parameters": {},
   "start_time": "2021-05-22T23:26:25.454947",
   "version": "2.3.3"
  }
 },
 "nbformat": 4,
 "nbformat_minor": 5
}
