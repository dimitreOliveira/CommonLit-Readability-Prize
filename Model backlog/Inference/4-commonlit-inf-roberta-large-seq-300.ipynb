{
 "cells": [
  {
   "cell_type": "markdown",
   "id": "documentary-cross",
   "metadata": {
    "papermill": {
     "duration": 0.010916,
     "end_time": "2021-05-14T23:39:53.542451",
     "exception": false,
     "start_time": "2021-05-14T23:39:53.531535",
     "status": "completed"
    },
    "tags": []
   },
   "source": [
    "## Dependencies"
   ]
  },
  {
   "cell_type": "code",
   "execution_count": 1,
   "id": "enormous-leonard",
   "metadata": {
    "_cell_guid": "b1076dfc-b9ad-4769-8c92-a6c4dae69d19",
    "_kg_hide-input": true,
    "_kg_hide-output": true,
    "_uuid": "8f2839f25d086af736a60e9eeb907d3b93b6e0e5",
    "execution": {
     "iopub.execute_input": "2021-05-14T23:39:53.567866Z",
     "iopub.status.busy": "2021-05-14T23:39:53.566257Z",
     "iopub.status.idle": "2021-05-14T23:40:00.196493Z",
     "shell.execute_reply": "2021-05-14T23:40:00.195914Z"
    },
    "papermill": {
     "duration": 6.644274,
     "end_time": "2021-05-14T23:40:00.196657",
     "exception": false,
     "start_time": "2021-05-14T23:39:53.552383",
     "status": "completed"
    },
    "tags": []
   },
   "outputs": [],
   "source": [
    "import random, os, warnings, math, glob\n",
    "import numpy as np\n",
    "import pandas as pd\n",
    "import tensorflow as tf\n",
    "import tensorflow.keras.layers as L\n",
    "import tensorflow.keras.backend as K\n",
    "from tensorflow.keras import Model\n",
    "from transformers import TFAutoModelForSequenceClassification, TFAutoModel, AutoTokenizer\n",
    "\n",
    "\n",
    "def seed_everything(seed=0):\n",
    "    random.seed(seed)\n",
    "    np.random.seed(seed)\n",
    "    tf.random.set_seed(seed)\n",
    "    os.environ['PYTHONHASHSEED'] = str(seed)\n",
    "    os.environ['TF_DETERMINISTIC_OPS'] = '1'\n",
    "\n",
    "seed = 0\n",
    "seed_everything(seed)\n",
    "warnings.filterwarnings('ignore')\n",
    "pd.set_option('display.max_colwidth', 150)"
   ]
  },
  {
   "cell_type": "markdown",
   "id": "received-filling",
   "metadata": {
    "papermill": {
     "duration": 0.009467,
     "end_time": "2021-05-14T23:40:00.216347",
     "exception": false,
     "start_time": "2021-05-14T23:40:00.206880",
     "status": "completed"
    },
    "tags": []
   },
   "source": [
    "### Hardware configuration"
   ]
  },
  {
   "cell_type": "code",
   "execution_count": 2,
   "id": "healthy-flash",
   "metadata": {
    "_kg_hide-input": true,
    "_kg_hide-output": false,
    "execution": {
     "iopub.execute_input": "2021-05-14T23:40:00.241269Z",
     "iopub.status.busy": "2021-05-14T23:40:00.240724Z",
     "iopub.status.idle": "2021-05-14T23:40:00.248780Z",
     "shell.execute_reply": "2021-05-14T23:40:00.249442Z"
    },
    "papermill": {
     "duration": 0.023664,
     "end_time": "2021-05-14T23:40:00.249580",
     "exception": false,
     "start_time": "2021-05-14T23:40:00.225916",
     "status": "completed"
    },
    "tags": []
   },
   "outputs": [
    {
     "name": "stdout",
     "output_type": "stream",
     "text": [
      "REPLICAS: 1\n"
     ]
    }
   ],
   "source": [
    "# TPU or GPU detection\n",
    "# Detect hardware, return appropriate distribution strategy\n",
    "try:\n",
    "    tpu = tf.distribute.cluster_resolver.TPUClusterResolver()\n",
    "    print(f'Running on TPU {tpu.master()}')\n",
    "except ValueError:\n",
    "    tpu = None\n",
    "\n",
    "if tpu:\n",
    "    tf.config.experimental_connect_to_cluster(tpu)\n",
    "    tf.tpu.experimental.initialize_tpu_system(tpu)\n",
    "    strategy = tf.distribute.experimental.TPUStrategy(tpu)\n",
    "else:\n",
    "    strategy = tf.distribute.get_strategy()\n",
    "\n",
    "AUTO = tf.data.experimental.AUTOTUNE\n",
    "REPLICAS = strategy.num_replicas_in_sync\n",
    "print(f'REPLICAS: {REPLICAS}')"
   ]
  },
  {
   "cell_type": "markdown",
   "id": "above-distribution",
   "metadata": {
    "papermill": {
     "duration": 0.00998,
     "end_time": "2021-05-14T23:40:00.269975",
     "exception": false,
     "start_time": "2021-05-14T23:40:00.259995",
     "status": "completed"
    },
    "tags": []
   },
   "source": [
    "# Load data"
   ]
  },
  {
   "cell_type": "code",
   "execution_count": 3,
   "id": "physical-ancient",
   "metadata": {
    "_kg_hide-input": true,
    "execution": {
     "iopub.execute_input": "2021-05-14T23:40:00.296082Z",
     "iopub.status.busy": "2021-05-14T23:40:00.295603Z",
     "iopub.status.idle": "2021-05-14T23:40:00.324648Z",
     "shell.execute_reply": "2021-05-14T23:40:00.324223Z"
    },
    "papermill": {
     "duration": 0.04419,
     "end_time": "2021-05-14T23:40:00.324756",
     "exception": false,
     "start_time": "2021-05-14T23:40:00.280566",
     "status": "completed"
    },
    "tags": []
   },
   "outputs": [
    {
     "name": "stdout",
     "output_type": "stream",
     "text": [
      "Test samples: 7\n"
     ]
    },
    {
     "data": {
      "text/html": [
       "<div>\n",
       "<style scoped>\n",
       "    .dataframe tbody tr th:only-of-type {\n",
       "        vertical-align: middle;\n",
       "    }\n",
       "\n",
       "    .dataframe tbody tr th {\n",
       "        vertical-align: top;\n",
       "    }\n",
       "\n",
       "    .dataframe thead th {\n",
       "        text-align: right;\n",
       "    }\n",
       "</style>\n",
       "<table border=\"1\" class=\"dataframe\">\n",
       "  <thead>\n",
       "    <tr style=\"text-align: right;\">\n",
       "      <th></th>\n",
       "      <th>id</th>\n",
       "      <th>url_legal</th>\n",
       "      <th>license</th>\n",
       "      <th>excerpt</th>\n",
       "    </tr>\n",
       "  </thead>\n",
       "  <tbody>\n",
       "    <tr>\n",
       "      <th>0</th>\n",
       "      <td>c0f722661</td>\n",
       "      <td>NaN</td>\n",
       "      <td>NaN</td>\n",
       "      <td>My hope lay in Jack's promise that he would keep a bright light burning in the upper story to guide me on my course. On a clear night this light w...</td>\n",
       "    </tr>\n",
       "    <tr>\n",
       "      <th>1</th>\n",
       "      <td>f0953f0a5</td>\n",
       "      <td>NaN</td>\n",
       "      <td>NaN</td>\n",
       "      <td>Dotty continued to go to Mrs. Gray's every night with the milk. Sometimes Katie went with her, and then they always paused a while under the acorn...</td>\n",
       "    </tr>\n",
       "    <tr>\n",
       "      <th>2</th>\n",
       "      <td>0df072751</td>\n",
       "      <td>NaN</td>\n",
       "      <td>NaN</td>\n",
       "      <td>It was a bright and cheerful scene that greeted the eyes of Captain Raymond and his son as they entered the parlor of the adjacent cottage.\\nIt wa...</td>\n",
       "    </tr>\n",
       "    <tr>\n",
       "      <th>3</th>\n",
       "      <td>04caf4e0c</td>\n",
       "      <td>https://en.wikipedia.org/wiki/Cell_division</td>\n",
       "      <td>CC BY-SA 3.0</td>\n",
       "      <td>Cell division is the process by which a parent cell divides into two or more daughter cells. Cell division usually occurs as part of a larger cell...</td>\n",
       "    </tr>\n",
       "    <tr>\n",
       "      <th>4</th>\n",
       "      <td>0e63f8bea</td>\n",
       "      <td>https://en.wikipedia.org/wiki/Debugging</td>\n",
       "      <td>CC BY-SA 3.0</td>\n",
       "      <td>Debugging is the process of finding and resolving of defects that prevent correct operation of computer software or a system. Debugging tends to b...</td>\n",
       "    </tr>\n",
       "  </tbody>\n",
       "</table>\n",
       "</div>"
      ],
      "text/plain": [
       "          id                                    url_legal       license  \\\n",
       "0  c0f722661                                          NaN           NaN   \n",
       "1  f0953f0a5                                          NaN           NaN   \n",
       "2  0df072751                                          NaN           NaN   \n",
       "3  04caf4e0c  https://en.wikipedia.org/wiki/Cell_division  CC BY-SA 3.0   \n",
       "4  0e63f8bea      https://en.wikipedia.org/wiki/Debugging  CC BY-SA 3.0   \n",
       "\n",
       "                                                                                                                                                 excerpt  \n",
       "0  My hope lay in Jack's promise that he would keep a bright light burning in the upper story to guide me on my course. On a clear night this light w...  \n",
       "1  Dotty continued to go to Mrs. Gray's every night with the milk. Sometimes Katie went with her, and then they always paused a while under the acorn...  \n",
       "2  It was a bright and cheerful scene that greeted the eyes of Captain Raymond and his son as they entered the parlor of the adjacent cottage.\\nIt wa...  \n",
       "3  Cell division is the process by which a parent cell divides into two or more daughter cells. Cell division usually occurs as part of a larger cell...  \n",
       "4  Debugging is the process of finding and resolving of defects that prevent correct operation of computer software or a system. Debugging tends to b...  "
      ]
     },
     "metadata": {},
     "output_type": "display_data"
    }
   ],
   "source": [
    "test_filepath = '/kaggle/input/commonlitreadabilityprize/test.csv'\n",
    "test = pd.read_csv(test_filepath)\n",
    "print(f'Test samples: {len(test)}')\n",
    "display(test.head())"
   ]
  },
  {
   "cell_type": "markdown",
   "id": "secondary-yukon",
   "metadata": {
    "papermill": {
     "duration": 0.010736,
     "end_time": "2021-05-14T23:40:00.346392",
     "exception": false,
     "start_time": "2021-05-14T23:40:00.335656",
     "status": "completed"
    },
    "tags": []
   },
   "source": [
    "# Model parameters"
   ]
  },
  {
   "cell_type": "code",
   "execution_count": 4,
   "id": "injured-casino",
   "metadata": {
    "execution": {
     "iopub.execute_input": "2021-05-14T23:40:00.371766Z",
     "iopub.status.busy": "2021-05-14T23:40:00.371080Z",
     "iopub.status.idle": "2021-05-14T23:40:00.373524Z",
     "shell.execute_reply": "2021-05-14T23:40:00.373917Z"
    },
    "papermill": {
     "duration": 0.016699,
     "end_time": "2021-05-14T23:40:00.374037",
     "exception": false,
     "start_time": "2021-05-14T23:40:00.357338",
     "status": "completed"
    },
    "tags": []
   },
   "outputs": [],
   "source": [
    "BATCH_SIZE = 8 * REPLICAS\n",
    "SEQ_LEN = 300\n",
    "BASE_MODEL = '/kaggle/input/huggingface-roberta/roberta-large/'"
   ]
  },
  {
   "cell_type": "markdown",
   "id": "eleven-diana",
   "metadata": {
    "papermill": {
     "duration": 0.010681,
     "end_time": "2021-05-14T23:40:00.395910",
     "exception": false,
     "start_time": "2021-05-14T23:40:00.385229",
     "status": "completed"
    },
    "tags": []
   },
   "source": [
    "## Auxiliary functions"
   ]
  },
  {
   "cell_type": "code",
   "execution_count": 5,
   "id": "monthly-search",
   "metadata": {
    "_cell_guid": "79c7e3d0-c299-4dcb-8224-4455121ee9b0",
    "_kg_hide-input": true,
    "_uuid": "d629ff2d2480ee46fbb7e2d37f6b5fab8052498a",
    "execution": {
     "iopub.execute_input": "2021-05-14T23:40:00.427442Z",
     "iopub.status.busy": "2021-05-14T23:40:00.426784Z",
     "iopub.status.idle": "2021-05-14T23:40:00.429495Z",
     "shell.execute_reply": "2021-05-14T23:40:00.429057Z"
    },
    "papermill": {
     "duration": 0.022834,
     "end_time": "2021-05-14T23:40:00.429612",
     "exception": false,
     "start_time": "2021-05-14T23:40:00.406778",
     "status": "completed"
    },
    "tags": []
   },
   "outputs": [],
   "source": [
    "# Datasets utility functions\n",
    "def custom_standardization(text):\n",
    "    text = text.lower() # if encoder is uncased\n",
    "    text = text.strip()\n",
    "    return text\n",
    "\n",
    "\n",
    "def sample_target(features, target):\n",
    "    mean, stddev = target\n",
    "    sampled_target = tf.random.normal([], mean=tf.cast(mean, dtype=tf.float32), \n",
    "                                      stddev=tf.cast(stddev, dtype=tf.float32), dtype=tf.float32)\n",
    "    \n",
    "    return (features, sampled_target)\n",
    "    \n",
    "\n",
    "def get_dataset(pandas_df, tokenizer, labeled=True, ordered=False, repeated=False, \n",
    "                is_sampled=False, batch_size=32, seq_len=128):\n",
    "    \"\"\"\n",
    "        Return a Tensorflow dataset ready for training or inference.\n",
    "    \"\"\"\n",
    "    text = [custom_standardization(text) for text in pandas_df['excerpt']]\n",
    "    \n",
    "    # Tokenize inputs\n",
    "    tokenized_inputs = tokenizer(text, max_length=seq_len, truncation=True, \n",
    "                                 padding='max_length', return_tensors='tf')\n",
    "    \n",
    "    if labeled:\n",
    "        dataset = tf.data.Dataset.from_tensor_slices(({'input_ids': tokenized_inputs['input_ids'], \n",
    "                                                      'attention_mask': tokenized_inputs['attention_mask']}, \n",
    "                                                      (pandas_df['target'], pandas_df['standard_error'])))\n",
    "        if is_sampled:\n",
    "            dataset = dataset.map(sample_target, num_parallel_calls=tf.data.AUTOTUNE)\n",
    "    else:\n",
    "        dataset = tf.data.Dataset.from_tensor_slices({'input_ids': tokenized_inputs['input_ids'], \n",
    "                                                      'attention_mask': tokenized_inputs['attention_mask']})\n",
    "        \n",
    "    if repeated:\n",
    "        dataset = dataset.repeat()\n",
    "    if not ordered:\n",
    "        dataset = dataset.shuffle(1024)\n",
    "    dataset = dataset.batch(batch_size)\n",
    "    dataset = dataset.prefetch(tf.data.AUTOTUNE)\n",
    "    \n",
    "    return dataset"
   ]
  },
  {
   "cell_type": "code",
   "execution_count": 6,
   "id": "magnetic-manual",
   "metadata": {
    "execution": {
     "iopub.execute_input": "2021-05-14T23:40:00.455578Z",
     "iopub.status.busy": "2021-05-14T23:40:00.454935Z",
     "iopub.status.idle": "2021-05-14T23:40:01.103459Z",
     "shell.execute_reply": "2021-05-14T23:40:01.102992Z"
    },
    "papermill": {
     "duration": 0.663098,
     "end_time": "2021-05-14T23:40:01.103602",
     "exception": false,
     "start_time": "2021-05-14T23:40:00.440504",
     "status": "completed"
    },
    "tags": []
   },
   "outputs": [
    {
     "name": "stdout",
     "output_type": "stream",
     "text": [
      "4-commonlit-roberta-large-seq-300  huggingface-bert\r\n",
      "commonlitreadabilityprize\t   huggingface-roberta\r\n"
     ]
    }
   ],
   "source": [
    "!ls /kaggle/input/"
   ]
  },
  {
   "cell_type": "code",
   "execution_count": 7,
   "id": "suburban-shuttle",
   "metadata": {
    "execution": {
     "iopub.execute_input": "2021-05-14T23:40:01.131427Z",
     "iopub.status.busy": "2021-05-14T23:40:01.130835Z",
     "iopub.status.idle": "2021-05-14T23:40:01.145673Z",
     "shell.execute_reply": "2021-05-14T23:40:01.146197Z"
    },
    "papermill": {
     "duration": 0.030995,
     "end_time": "2021-05-14T23:40:01.146384",
     "exception": false,
     "start_time": "2021-05-14T23:40:01.115389",
     "status": "completed"
    },
    "tags": []
   },
   "outputs": [
    {
     "name": "stdout",
     "output_type": "stream",
     "text": [
      "Models to predict:\n",
      "/kaggle/input/4-commonlit-roberta-large-seq-300/model_0.h5\n",
      "/kaggle/input/4-commonlit-roberta-large-seq-300/model_1.h5\n",
      "/kaggle/input/4-commonlit-roberta-large-seq-300/model_2.h5\n",
      "/kaggle/input/4-commonlit-roberta-large-seq-300/model_3.h5\n",
      "/kaggle/input/4-commonlit-roberta-large-seq-300/model_4.h5\n"
     ]
    }
   ],
   "source": [
    "model_path_list = glob.glob('/kaggle/input/4-commonlit-roberta-large-seq-300/*.h5')\n",
    "model_path_list.sort()\n",
    "\n",
    "print('Models to predict:')\n",
    "print(*model_path_list, sep='\\n')"
   ]
  },
  {
   "cell_type": "markdown",
   "id": "signed-teens",
   "metadata": {
    "papermill": {
     "duration": 0.011785,
     "end_time": "2021-05-14T23:40:01.170576",
     "exception": false,
     "start_time": "2021-05-14T23:40:01.158791",
     "status": "completed"
    },
    "tags": []
   },
   "source": [
    "# Model"
   ]
  },
  {
   "cell_type": "code",
   "execution_count": 8,
   "id": "former-glasgow",
   "metadata": {
    "execution": {
     "iopub.execute_input": "2021-05-14T23:40:01.200772Z",
     "iopub.status.busy": "2021-05-14T23:40:01.200251Z",
     "iopub.status.idle": "2021-05-14T23:40:37.503339Z",
     "shell.execute_reply": "2021-05-14T23:40:37.503940Z"
    },
    "papermill": {
     "duration": 36.321819,
     "end_time": "2021-05-14T23:40:37.504145",
     "exception": false,
     "start_time": "2021-05-14T23:40:01.182326",
     "status": "completed"
    },
    "tags": []
   },
   "outputs": [
    {
     "name": "stderr",
     "output_type": "stream",
     "text": [
      "Some layers from the model checkpoint at /kaggle/input/huggingface-roberta/roberta-large/ were not used when initializing TFRobertaModel: ['lm_head']\n",
      "- This IS expected if you are initializing TFRobertaModel from the checkpoint of a model trained on another task or with another architecture (e.g. initializing a BertForSequenceClassification model from a BertForPreTraining model).\n",
      "- This IS NOT expected if you are initializing TFRobertaModel from the checkpoint of a model that you expect to be exactly identical (initializing a BertForSequenceClassification model from a BertForSequenceClassification model).\n",
      "All the layers of TFRobertaModel were initialized from the model checkpoint at /kaggle/input/huggingface-roberta/roberta-large/.\n",
      "If your task is similar to the task the model of the checkpoint was trained on, you can already use TFRobertaModel for predictions without further training.\n"
     ]
    },
    {
     "name": "stdout",
     "output_type": "stream",
     "text": [
      "Model: \"model\"\n",
      "__________________________________________________________________________________________________\n",
      "Layer (type)                    Output Shape         Param #     Connected to                     \n",
      "==================================================================================================\n",
      "attention_mask (InputLayer)     [(None, 300)]        0                                            \n",
      "__________________________________________________________________________________________________\n",
      "input_ids (InputLayer)          [(None, 300)]        0                                            \n",
      "__________________________________________________________________________________________________\n",
      "tf_roberta_model (TFRobertaMode TFBaseModelOutputWit 355359744   attention_mask[0][0]             \n",
      "                                                                 input_ids[0][0]                  \n",
      "__________________________________________________________________________________________________\n",
      "global_average_pooling1d (Globa (None, 1024)         0           tf_roberta_model[0][0]           \n",
      "__________________________________________________________________________________________________\n",
      "output (Dense)                  (None, 1)            1025        global_average_pooling1d[0][0]   \n",
      "==================================================================================================\n",
      "Total params: 355,360,769\n",
      "Trainable params: 355,360,769\n",
      "Non-trainable params: 0\n",
      "__________________________________________________________________________________________________\n"
     ]
    }
   ],
   "source": [
    "def model_fn(encoder, seq_len=256):\n",
    "    input_ids = L.Input(shape=(seq_len,), dtype=tf.int32, name='input_ids')\n",
    "    input_attention_mask = L.Input(shape=(seq_len,), dtype=tf.int32, name='attention_mask')\n",
    "    \n",
    "    outputs = encoder({'input_ids': input_ids, \n",
    "                       'attention_mask': input_attention_mask})\n",
    "    last_hidden_state = outputs['last_hidden_state']\n",
    "    \n",
    "    x = L.GlobalAveragePooling1D()(last_hidden_state)\n",
    "    output = L.Dense(1, name='output')(x)\n",
    "    \n",
    "    model = Model(inputs=[input_ids, input_attention_mask], outputs=output)\n",
    "\n",
    "    return model\n",
    "\n",
    "\n",
    "with strategy.scope():\n",
    "    encoder = TFAutoModel.from_pretrained(BASE_MODEL)\n",
    "    model = model_fn(encoder, SEQ_LEN)\n",
    "    \n",
    "model.summary()"
   ]
  },
  {
   "cell_type": "markdown",
   "id": "affiliated-lesson",
   "metadata": {
    "papermill": {
     "duration": 0.012418,
     "end_time": "2021-05-14T23:40:37.530619",
     "exception": false,
     "start_time": "2021-05-14T23:40:37.518201",
     "status": "completed"
    },
    "tags": []
   },
   "source": [
    "# Test set predictions"
   ]
  },
  {
   "cell_type": "code",
   "execution_count": 9,
   "id": "worthy-covering",
   "metadata": {
    "_kg_hide-input": false,
    "_kg_hide-output": true,
    "execution": {
     "iopub.execute_input": "2021-05-14T23:40:37.561275Z",
     "iopub.status.busy": "2021-05-14T23:40:37.560759Z",
     "iopub.status.idle": "2021-05-14T23:41:43.446611Z",
     "shell.execute_reply": "2021-05-14T23:41:43.447710Z"
    },
    "papermill": {
     "duration": 65.904406,
     "end_time": "2021-05-14T23:41:43.447943",
     "exception": false,
     "start_time": "2021-05-14T23:40:37.543537",
     "status": "completed"
    },
    "tags": []
   },
   "outputs": [
    {
     "name": "stdout",
     "output_type": "stream",
     "text": [
      "/kaggle/input/4-commonlit-roberta-large-seq-300/model_0.h5\n",
      "/kaggle/input/4-commonlit-roberta-large-seq-300/model_1.h5\n",
      "/kaggle/input/4-commonlit-roberta-large-seq-300/model_2.h5\n",
      "/kaggle/input/4-commonlit-roberta-large-seq-300/model_3.h5\n",
      "/kaggle/input/4-commonlit-roberta-large-seq-300/model_4.h5\n"
     ]
    }
   ],
   "source": [
    "tokenizer = AutoTokenizer.from_pretrained(BASE_MODEL)\n",
    "test_pred = []\n",
    "\n",
    "for model_path in model_path_list:\n",
    "    print(model_path)\n",
    "    if tpu: tf.tpu.experimental.initialize_tpu_system(tpu)\n",
    "    K.clear_session()\n",
    "    model.load_weights(model_path)\n",
    "\n",
    "    # Test predictions\n",
    "    test_ds = get_dataset(test, tokenizer, labeled=False, ordered=True, batch_size=BATCH_SIZE, seq_len=SEQ_LEN)\n",
    "    x_test = test_ds.map(lambda sample: sample)\n",
    "    test_pred.append(model.predict(x_test))"
   ]
  },
  {
   "cell_type": "markdown",
   "id": "asian-luxembourg",
   "metadata": {
    "papermill": {
     "duration": 0.024715,
     "end_time": "2021-05-14T23:41:43.499379",
     "exception": false,
     "start_time": "2021-05-14T23:41:43.474664",
     "status": "completed"
    },
    "tags": []
   },
   "source": [
    "# Test set predictions"
   ]
  },
  {
   "cell_type": "code",
   "execution_count": 10,
   "id": "statutory-combination",
   "metadata": {
    "execution": {
     "iopub.execute_input": "2021-05-14T23:41:43.556401Z",
     "iopub.status.busy": "2021-05-14T23:41:43.555663Z",
     "iopub.status.idle": "2021-05-14T23:41:43.776611Z",
     "shell.execute_reply": "2021-05-14T23:41:43.777967Z"
    },
    "papermill": {
     "duration": 0.255264,
     "end_time": "2021-05-14T23:41:43.778179",
     "exception": false,
     "start_time": "2021-05-14T23:41:43.522915",
     "status": "completed"
    },
    "tags": []
   },
   "outputs": [
    {
     "data": {
      "text/html": [
       "<div>\n",
       "<style scoped>\n",
       "    .dataframe tbody tr th:only-of-type {\n",
       "        vertical-align: middle;\n",
       "    }\n",
       "\n",
       "    .dataframe tbody tr th {\n",
       "        vertical-align: top;\n",
       "    }\n",
       "\n",
       "    .dataframe thead th {\n",
       "        text-align: right;\n",
       "    }\n",
       "</style>\n",
       "<table border=\"1\" class=\"dataframe\">\n",
       "  <thead>\n",
       "    <tr style=\"text-align: right;\">\n",
       "      <th></th>\n",
       "      <th>id</th>\n",
       "      <th>target</th>\n",
       "    </tr>\n",
       "  </thead>\n",
       "  <tbody>\n",
       "    <tr>\n",
       "      <th>0</th>\n",
       "      <td>c0f722661</td>\n",
       "      <td>-0.339807</td>\n",
       "    </tr>\n",
       "    <tr>\n",
       "      <th>1</th>\n",
       "      <td>f0953f0a5</td>\n",
       "      <td>-0.353364</td>\n",
       "    </tr>\n",
       "    <tr>\n",
       "      <th>2</th>\n",
       "      <td>0df072751</td>\n",
       "      <td>-0.414691</td>\n",
       "    </tr>\n",
       "    <tr>\n",
       "      <th>3</th>\n",
       "      <td>04caf4e0c</td>\n",
       "      <td>-1.691508</td>\n",
       "    </tr>\n",
       "    <tr>\n",
       "      <th>4</th>\n",
       "      <td>0e63f8bea</td>\n",
       "      <td>-1.557891</td>\n",
       "    </tr>\n",
       "    <tr>\n",
       "      <th>5</th>\n",
       "      <td>12537fe78</td>\n",
       "      <td>-0.977646</td>\n",
       "    </tr>\n",
       "    <tr>\n",
       "      <th>6</th>\n",
       "      <td>965e592c0</td>\n",
       "      <td>0.168630</td>\n",
       "    </tr>\n",
       "  </tbody>\n",
       "</table>\n",
       "</div>"
      ],
      "text/plain": [
       "          id    target\n",
       "0  c0f722661 -0.339807\n",
       "1  f0953f0a5 -0.353364\n",
       "2  0df072751 -0.414691\n",
       "3  04caf4e0c -1.691508\n",
       "4  0e63f8bea -1.557891\n",
       "5  12537fe78 -0.977646\n",
       "6  965e592c0  0.168630"
      ]
     },
     "metadata": {},
     "output_type": "display_data"
    }
   ],
   "source": [
    "submission = test[['id']]\n",
    "submission['target'] = np.mean(test_pred, axis=0)\n",
    "submission.to_csv('submission.csv', index=False)\n",
    "display(submission.head(10))"
   ]
  }
 ],
 "metadata": {
  "kernelspec": {
   "display_name": "Python 3",
   "language": "python",
   "name": "python3"
  },
  "language_info": {
   "codemirror_mode": {
    "name": "ipython",
    "version": 3
   },
   "file_extension": ".py",
   "mimetype": "text/x-python",
   "name": "python",
   "nbconvert_exporter": "python",
   "pygments_lexer": "ipython3",
   "version": "3.7.10"
  },
  "papermill": {
   "default_parameters": {},
   "duration": 119.670061,
   "end_time": "2021-05-14T23:41:46.626908",
   "environment_variables": {},
   "exception": null,
   "input_path": "__notebook__.ipynb",
   "output_path": "__notebook__.ipynb",
   "parameters": {},
   "start_time": "2021-05-14T23:39:46.956847",
   "version": "2.3.3"
  }
 },
 "nbformat": 4,
 "nbformat_minor": 5
}
